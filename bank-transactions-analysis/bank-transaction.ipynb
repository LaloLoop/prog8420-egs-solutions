{
 "cells": [
  {
   "cell_type": "markdown",
   "metadata": {},
   "source": [
    "# Transactions data analysis\n",
    "This notebook analyzes the provided Bank data to present the following:\n",
    "* 3 Reports and Graphs of the data\n",
    "* Fraud detection from the data\n",
    "\n",
    "The snippet below installs the required dependencies."
   ]
  },
  {
   "cell_type": "code",
   "execution_count": 25,
   "metadata": {},
   "outputs": [
    {
     "name": "stdout",
     "output_type": "stream",
     "text": [
      "Requirement already satisfied: pandas in /Users/eduardo.gutierrez/Envs/assignment3/lib/python3.8/site-packages (1.4.2)\n",
      "Requirement already satisfied: python-dateutil>=2.8.1 in /Users/eduardo.gutierrez/Envs/assignment3/lib/python3.8/site-packages (from pandas) (2.8.2)\n",
      "Requirement already satisfied: pytz>=2020.1 in /Users/eduardo.gutierrez/Envs/assignment3/lib/python3.8/site-packages (from pandas) (2022.1)\n",
      "Requirement already satisfied: numpy>=1.18.5 in /Users/eduardo.gutierrez/Envs/assignment3/lib/python3.8/site-packages (from pandas) (1.22.3)\n",
      "Requirement already satisfied: six>=1.5 in /Users/eduardo.gutierrez/Envs/assignment3/lib/python3.8/site-packages (from python-dateutil>=2.8.1->pandas) (1.16.0)\n",
      "\u001b[33mWARNING: You are using pip version 21.3.1; however, version 22.0.4 is available.\n",
      "You should consider upgrading via the '/Users/eduardo.gutierrez/Envs/assignment3/bin/python -m pip install --upgrade pip' command.\u001b[0m\n",
      "Requirement already satisfied: openpyxl in /Users/eduardo.gutierrez/Envs/assignment3/lib/python3.8/site-packages (3.0.9)\n",
      "Requirement already satisfied: et-xmlfile in /Users/eduardo.gutierrez/Envs/assignment3/lib/python3.8/site-packages (from openpyxl) (1.1.0)\n",
      "\u001b[33mWARNING: You are using pip version 21.3.1; however, version 22.0.4 is available.\n",
      "You should consider upgrading via the '/Users/eduardo.gutierrez/Envs/assignment3/bin/python -m pip install --upgrade pip' command.\u001b[0m\n",
      "Requirement already satisfied: statsmodels in /Users/eduardo.gutierrez/Envs/assignment3/lib/python3.8/site-packages (0.13.2)\n",
      "Requirement already satisfied: patsy>=0.5.2 in /Users/eduardo.gutierrez/Envs/assignment3/lib/python3.8/site-packages (from statsmodels) (0.5.2)\n",
      "Requirement already satisfied: numpy>=1.17 in /Users/eduardo.gutierrez/Envs/assignment3/lib/python3.8/site-packages (from statsmodels) (1.22.3)\n",
      "Requirement already satisfied: scipy>=1.3 in /Users/eduardo.gutierrez/Envs/assignment3/lib/python3.8/site-packages (from statsmodels) (1.8.0)\n",
      "Requirement already satisfied: pandas>=0.25 in /Users/eduardo.gutierrez/Envs/assignment3/lib/python3.8/site-packages (from statsmodels) (1.4.2)\n",
      "Requirement already satisfied: packaging>=21.3 in /Users/eduardo.gutierrez/Envs/assignment3/lib/python3.8/site-packages (from statsmodels) (21.3)\n",
      "Requirement already satisfied: pyparsing!=3.0.5,>=2.0.2 in /Users/eduardo.gutierrez/Envs/assignment3/lib/python3.8/site-packages (from packaging>=21.3->statsmodels) (3.0.7)\n",
      "Requirement already satisfied: pytz>=2020.1 in /Users/eduardo.gutierrez/Envs/assignment3/lib/python3.8/site-packages (from pandas>=0.25->statsmodels) (2022.1)\n",
      "Requirement already satisfied: python-dateutil>=2.8.1 in /Users/eduardo.gutierrez/Envs/assignment3/lib/python3.8/site-packages (from pandas>=0.25->statsmodels) (2.8.2)\n",
      "Requirement already satisfied: six in /Users/eduardo.gutierrez/Envs/assignment3/lib/python3.8/site-packages (from patsy>=0.5.2->statsmodels) (1.16.0)\n",
      "\u001b[33mWARNING: You are using pip version 21.3.1; however, version 22.0.4 is available.\n",
      "You should consider upgrading via the '/Users/eduardo.gutierrez/Envs/assignment3/bin/python -m pip install --upgrade pip' command.\u001b[0m\n",
      "Requirement already satisfied: matplotlib in /Users/eduardo.gutierrez/Envs/assignment3/lib/python3.8/site-packages (3.5.1)\n",
      "Requirement already satisfied: cycler>=0.10 in /Users/eduardo.gutierrez/Envs/assignment3/lib/python3.8/site-packages (from matplotlib) (0.11.0)\n",
      "Requirement already satisfied: pillow>=6.2.0 in /Users/eduardo.gutierrez/Envs/assignment3/lib/python3.8/site-packages (from matplotlib) (9.1.0)\n",
      "Requirement already satisfied: packaging>=20.0 in /Users/eduardo.gutierrez/Envs/assignment3/lib/python3.8/site-packages (from matplotlib) (21.3)\n",
      "Requirement already satisfied: numpy>=1.17 in /Users/eduardo.gutierrez/Envs/assignment3/lib/python3.8/site-packages (from matplotlib) (1.22.3)\n",
      "Requirement already satisfied: pyparsing>=2.2.1 in /Users/eduardo.gutierrez/Envs/assignment3/lib/python3.8/site-packages (from matplotlib) (3.0.7)\n",
      "Requirement already satisfied: kiwisolver>=1.0.1 in /Users/eduardo.gutierrez/Envs/assignment3/lib/python3.8/site-packages (from matplotlib) (1.4.2)\n",
      "Requirement already satisfied: python-dateutil>=2.7 in /Users/eduardo.gutierrez/Envs/assignment3/lib/python3.8/site-packages (from matplotlib) (2.8.2)\n",
      "Requirement already satisfied: fonttools>=4.22.0 in /Users/eduardo.gutierrez/Envs/assignment3/lib/python3.8/site-packages (from matplotlib) (4.31.2)\n",
      "Requirement already satisfied: six>=1.5 in /Users/eduardo.gutierrez/Envs/assignment3/lib/python3.8/site-packages (from python-dateutil>=2.7->matplotlib) (1.16.0)\n",
      "\u001b[33mWARNING: You are using pip version 21.3.1; however, version 22.0.4 is available.\n",
      "You should consider upgrading via the '/Users/eduardo.gutierrez/Envs/assignment3/bin/python -m pip install --upgrade pip' command.\u001b[0m\n",
      "Requirement already satisfied: seaborn in /Users/eduardo.gutierrez/Envs/assignment3/lib/python3.8/site-packages (0.11.2)\n",
      "Requirement already satisfied: pandas>=0.23 in /Users/eduardo.gutierrez/Envs/assignment3/lib/python3.8/site-packages (from seaborn) (1.4.2)\n",
      "Requirement already satisfied: scipy>=1.0 in /Users/eduardo.gutierrez/Envs/assignment3/lib/python3.8/site-packages (from seaborn) (1.8.0)\n",
      "Requirement already satisfied: numpy>=1.15 in /Users/eduardo.gutierrez/Envs/assignment3/lib/python3.8/site-packages (from seaborn) (1.22.3)\n",
      "Requirement already satisfied: matplotlib>=2.2 in /Users/eduardo.gutierrez/Envs/assignment3/lib/python3.8/site-packages (from seaborn) (3.5.1)\n",
      "Requirement already satisfied: python-dateutil>=2.7 in /Users/eduardo.gutierrez/Envs/assignment3/lib/python3.8/site-packages (from matplotlib>=2.2->seaborn) (2.8.2)\n",
      "Requirement already satisfied: packaging>=20.0 in /Users/eduardo.gutierrez/Envs/assignment3/lib/python3.8/site-packages (from matplotlib>=2.2->seaborn) (21.3)\n",
      "Requirement already satisfied: cycler>=0.10 in /Users/eduardo.gutierrez/Envs/assignment3/lib/python3.8/site-packages (from matplotlib>=2.2->seaborn) (0.11.0)\n",
      "Requirement already satisfied: fonttools>=4.22.0 in /Users/eduardo.gutierrez/Envs/assignment3/lib/python3.8/site-packages (from matplotlib>=2.2->seaborn) (4.31.2)\n",
      "Requirement already satisfied: kiwisolver>=1.0.1 in /Users/eduardo.gutierrez/Envs/assignment3/lib/python3.8/site-packages (from matplotlib>=2.2->seaborn) (1.4.2)\n",
      "Requirement already satisfied: pyparsing>=2.2.1 in /Users/eduardo.gutierrez/Envs/assignment3/lib/python3.8/site-packages (from matplotlib>=2.2->seaborn) (3.0.7)\n",
      "Requirement already satisfied: pillow>=6.2.0 in /Users/eduardo.gutierrez/Envs/assignment3/lib/python3.8/site-packages (from matplotlib>=2.2->seaborn) (9.1.0)\n",
      "Requirement already satisfied: pytz>=2020.1 in /Users/eduardo.gutierrez/Envs/assignment3/lib/python3.8/site-packages (from pandas>=0.23->seaborn) (2022.1)\n",
      "Requirement already satisfied: six>=1.5 in /Users/eduardo.gutierrez/Envs/assignment3/lib/python3.8/site-packages (from python-dateutil>=2.7->matplotlib>=2.2->seaborn) (1.16.0)\n",
      "\u001b[33mWARNING: You are using pip version 21.3.1; however, version 22.0.4 is available.\n",
      "You should consider upgrading via the '/Users/eduardo.gutierrez/Envs/assignment3/bin/python -m pip install --upgrade pip' command.\u001b[0m\n"
     ]
    }
   ],
   "source": [
    "import sys\n",
    "!{sys.executable} -m pip install pandas\n",
    "!{sys.executable} -m pip install openpyxl\n",
    "!{sys.executable} -m pip install statsmodels\n",
    "!{sys.executable} -m pip install matplotlib\n",
    "!{sys.executable} -m pip install seaborn"
   ]
  },
  {
   "cell_type": "markdown",
   "metadata": {},
   "source": [
    "Pandas is imported to load and analyze the data."
   ]
  },
  {
   "cell_type": "code",
   "execution_count": 111,
   "metadata": {},
   "outputs": [],
   "source": [
    "import pandas as pd\n",
    "import seaborn as sns\n",
    "import matplotlib.pyplot as plt\n",
    "import numpy as np"
   ]
  },
  {
   "cell_type": "markdown",
   "metadata": {},
   "source": [
    "Loading the transactions information from an excel file."
   ]
  },
  {
   "cell_type": "code",
   "execution_count": 27,
   "metadata": {},
   "outputs": [],
   "source": [
    "bank_data = pd.read_excel(\"CC-3Y-Transactions.xlsx\")"
   ]
  },
  {
   "cell_type": "markdown",
   "metadata": {},
   "source": [
    "The available columns can now be inspected by showing a sample of the first 15 rows."
   ]
  },
  {
   "cell_type": "code",
   "execution_count": 28,
   "metadata": {},
   "outputs": [
    {
     "data": {
      "text/html": [
       "<div>\n",
       "<style scoped>\n",
       "    .dataframe tbody tr th:only-of-type {\n",
       "        vertical-align: middle;\n",
       "    }\n",
       "\n",
       "    .dataframe tbody tr th {\n",
       "        vertical-align: top;\n",
       "    }\n",
       "\n",
       "    .dataframe thead th {\n",
       "        text-align: right;\n",
       "    }\n",
       "</style>\n",
       "<table border=\"1\" class=\"dataframe\">\n",
       "  <thead>\n",
       "    <tr style=\"text-align: right;\">\n",
       "      <th></th>\n",
       "      <th>City</th>\n",
       "      <th>Date</th>\n",
       "      <th>Card Type</th>\n",
       "      <th>Exp Type</th>\n",
       "      <th>Gender</th>\n",
       "      <th>Amount</th>\n",
       "    </tr>\n",
       "  </thead>\n",
       "  <tbody>\n",
       "    <tr>\n",
       "      <th>0</th>\n",
       "      <td>Delhi, India</td>\n",
       "      <td>2014-10-29</td>\n",
       "      <td>Gold</td>\n",
       "      <td>Bills</td>\n",
       "      <td>F</td>\n",
       "      <td>82475</td>\n",
       "    </tr>\n",
       "    <tr>\n",
       "      <th>1</th>\n",
       "      <td>Greater Mumbai, India</td>\n",
       "      <td>2014-08-22</td>\n",
       "      <td>Platinum</td>\n",
       "      <td>Bills</td>\n",
       "      <td>F</td>\n",
       "      <td>32555</td>\n",
       "    </tr>\n",
       "    <tr>\n",
       "      <th>2</th>\n",
       "      <td>Bengaluru, India</td>\n",
       "      <td>2014-08-27</td>\n",
       "      <td>Silver</td>\n",
       "      <td>Bills</td>\n",
       "      <td>F</td>\n",
       "      <td>101738</td>\n",
       "    </tr>\n",
       "    <tr>\n",
       "      <th>3</th>\n",
       "      <td>Greater Mumbai, India</td>\n",
       "      <td>2014-04-12</td>\n",
       "      <td>Signature</td>\n",
       "      <td>Bills</td>\n",
       "      <td>F</td>\n",
       "      <td>123424</td>\n",
       "    </tr>\n",
       "    <tr>\n",
       "      <th>4</th>\n",
       "      <td>Bengaluru, India</td>\n",
       "      <td>2015-05-05</td>\n",
       "      <td>Gold</td>\n",
       "      <td>Bills</td>\n",
       "      <td>F</td>\n",
       "      <td>171574</td>\n",
       "    </tr>\n",
       "    <tr>\n",
       "      <th>5</th>\n",
       "      <td>Delhi, India</td>\n",
       "      <td>2014-09-08</td>\n",
       "      <td>Silver</td>\n",
       "      <td>Bills</td>\n",
       "      <td>F</td>\n",
       "      <td>100036</td>\n",
       "    </tr>\n",
       "    <tr>\n",
       "      <th>6</th>\n",
       "      <td>Delhi, India</td>\n",
       "      <td>2015-02-24</td>\n",
       "      <td>Gold</td>\n",
       "      <td>Bills</td>\n",
       "      <td>F</td>\n",
       "      <td>143250</td>\n",
       "    </tr>\n",
       "    <tr>\n",
       "      <th>7</th>\n",
       "      <td>Greater Mumbai, India</td>\n",
       "      <td>2014-06-26</td>\n",
       "      <td>Platinum</td>\n",
       "      <td>Bills</td>\n",
       "      <td>F</td>\n",
       "      <td>150980</td>\n",
       "    </tr>\n",
       "    <tr>\n",
       "      <th>8</th>\n",
       "      <td>Delhi, India</td>\n",
       "      <td>2014-03-28</td>\n",
       "      <td>Silver</td>\n",
       "      <td>Bills</td>\n",
       "      <td>F</td>\n",
       "      <td>192247</td>\n",
       "    </tr>\n",
       "    <tr>\n",
       "      <th>9</th>\n",
       "      <td>Delhi, India</td>\n",
       "      <td>2014-09-01</td>\n",
       "      <td>Platinum</td>\n",
       "      <td>Bills</td>\n",
       "      <td>F</td>\n",
       "      <td>67932</td>\n",
       "    </tr>\n",
       "  </tbody>\n",
       "</table>\n",
       "</div>"
      ],
      "text/plain": [
       "                    City       Date  Card Type Exp Type Gender  Amount\n",
       "0           Delhi, India 2014-10-29       Gold    Bills      F   82475\n",
       "1  Greater Mumbai, India 2014-08-22   Platinum    Bills      F   32555\n",
       "2       Bengaluru, India 2014-08-27     Silver    Bills      F  101738\n",
       "3  Greater Mumbai, India 2014-04-12  Signature    Bills      F  123424\n",
       "4       Bengaluru, India 2015-05-05       Gold    Bills      F  171574\n",
       "5           Delhi, India 2014-09-08     Silver    Bills      F  100036\n",
       "6           Delhi, India 2015-02-24       Gold    Bills      F  143250\n",
       "7  Greater Mumbai, India 2014-06-26   Platinum    Bills      F  150980\n",
       "8           Delhi, India 2014-03-28     Silver    Bills      F  192247\n",
       "9           Delhi, India 2014-09-01   Platinum    Bills      F   67932"
      ]
     },
     "execution_count": 28,
     "metadata": {},
     "output_type": "execute_result"
    }
   ],
   "source": [
    "bank_data.head(10)"
   ]
  },
  {
   "cell_type": "markdown",
   "metadata": {},
   "source": [
    "Let's review the structure and information of the dataset."
   ]
  },
  {
   "cell_type": "code",
   "execution_count": 29,
   "metadata": {},
   "outputs": [
    {
     "name": "stdout",
     "output_type": "stream",
     "text": [
      "(26052, 6)\n",
      "<class 'pandas.core.frame.DataFrame'>\n",
      "RangeIndex: 26052 entries, 0 to 26051\n",
      "Data columns (total 6 columns):\n",
      " #   Column     Non-Null Count  Dtype         \n",
      "---  ------     --------------  -----         \n",
      " 0   City       26052 non-null  object        \n",
      " 1   Date       26052 non-null  datetime64[ns]\n",
      " 2   Card Type  26052 non-null  object        \n",
      " 3   Exp Type   26052 non-null  object        \n",
      " 4   Gender     26052 non-null  object        \n",
      " 5   Amount     26052 non-null  int64         \n",
      "dtypes: datetime64[ns](1), int64(1), object(4)\n",
      "memory usage: 1.2+ MB\n"
     ]
    }
   ],
   "source": [
    "print(bank_data.shape)\n",
    "bank_data.info()"
   ]
  },
  {
   "cell_type": "markdown",
   "metadata": {},
   "source": [
    "From the information above, it's noticeable that there are not null entries in the records for each column, since the number of non-null entries for each one is equal to the total amount shown by `RangeIndex`, 26,052."
   ]
  },
  {
   "cell_type": "markdown",
   "metadata": {},
   "source": [
    "## Report 1: Top Cities Expenses\n",
    "In this section exploration is carried based on the available cities."
   ]
  },
  {
   "cell_type": "code",
   "execution_count": 88,
   "metadata": {},
   "outputs": [
    {
     "name": "stdout",
     "output_type": "stream",
     "text": [
      "<class 'pandas.core.frame.DataFrame'>\n",
      "RangeIndex: 26052 entries, 0 to 26051\n",
      "Data columns (total 7 columns):\n",
      " #   Column     Non-Null Count  Dtype         \n",
      "---  ------     --------------  -----         \n",
      " 0   City       26052 non-null  object        \n",
      " 1   Date       26052 non-null  datetime64[ns]\n",
      " 2   Card Type  26052 non-null  object        \n",
      " 3   Exp Type   26052 non-null  object        \n",
      " 4   Gender     26052 non-null  object        \n",
      " 5   Amount     26052 non-null  int64         \n",
      " 6   Year       26052 non-null  object        \n",
      "dtypes: datetime64[ns](1), int64(1), object(5)\n",
      "memory usage: 1.4+ MB\n"
     ]
    }
   ],
   "source": [
    "bank_data['Year'] = pd.to_datetime(bank_data[\"Date\"]).dt.strftime('%Y')\n",
    "bank_data.info()"
   ]
  },
  {
   "cell_type": "code",
   "execution_count": 162,
   "metadata": {},
   "outputs": [
    {
     "data": {
      "text/html": [
       "<div>\n",
       "<style scoped>\n",
       "    .dataframe tbody tr th:only-of-type {\n",
       "        vertical-align: middle;\n",
       "    }\n",
       "\n",
       "    .dataframe tbody tr th {\n",
       "        vertical-align: top;\n",
       "    }\n",
       "\n",
       "    .dataframe thead th {\n",
       "        text-align: right;\n",
       "    }\n",
       "</style>\n",
       "<table border=\"1\" class=\"dataframe\">\n",
       "  <thead>\n",
       "    <tr style=\"text-align: right;\">\n",
       "      <th>City</th>\n",
       "      <th>Bengaluru, India</th>\n",
       "      <th>Greater Mumbai, India</th>\n",
       "      <th>Ahmedabad, India</th>\n",
       "      <th>Delhi, India</th>\n",
       "      <th>Kanpur, India</th>\n",
       "    </tr>\n",
       "    <tr>\n",
       "      <th>Year</th>\n",
       "      <th></th>\n",
       "      <th></th>\n",
       "      <th></th>\n",
       "      <th></th>\n",
       "      <th></th>\n",
       "    </tr>\n",
       "  </thead>\n",
       "  <tbody>\n",
       "    <tr>\n",
       "      <th>2013</th>\n",
       "      <td>84999287</td>\n",
       "      <td>84735652</td>\n",
       "      <td>83291837</td>\n",
       "      <td>82126961</td>\n",
       "      <td>19640338</td>\n",
       "    </tr>\n",
       "  </tbody>\n",
       "</table>\n",
       "</div>"
      ],
      "text/plain": [
       "City  Bengaluru, India  Greater Mumbai, India  Ahmedabad, India  Delhi, India  \\\n",
       "Year                                                                            \n",
       "2013          84999287               84735652          83291837      82126961   \n",
       "\n",
       "City  Kanpur, India  \n",
       "Year                 \n",
       "2013       19640338  "
      ]
     },
     "metadata": {},
     "output_type": "display_data"
    },
    {
     "data": {
      "text/html": [
       "<div>\n",
       "<style scoped>\n",
       "    .dataframe tbody tr th:only-of-type {\n",
       "        vertical-align: middle;\n",
       "    }\n",
       "\n",
       "    .dataframe tbody tr th {\n",
       "        vertical-align: top;\n",
       "    }\n",
       "\n",
       "    .dataframe thead th {\n",
       "        text-align: right;\n",
       "    }\n",
       "</style>\n",
       "<table border=\"1\" class=\"dataframe\">\n",
       "  <thead>\n",
       "    <tr style=\"text-align: right;\">\n",
       "      <th>City</th>\n",
       "      <th>Bengaluru, India</th>\n",
       "      <th>Greater Mumbai, India</th>\n",
       "      <th>Ahmedabad, India</th>\n",
       "      <th>Delhi, India</th>\n",
       "      <th>Hyderabad, India</th>\n",
       "    </tr>\n",
       "    <tr>\n",
       "      <th>Year</th>\n",
       "      <th></th>\n",
       "      <th></th>\n",
       "      <th></th>\n",
       "      <th></th>\n",
       "      <th></th>\n",
       "    </tr>\n",
       "  </thead>\n",
       "  <tbody>\n",
       "    <tr>\n",
       "      <th>2014</th>\n",
       "      <td>351482095</td>\n",
       "      <td>349709415</td>\n",
       "      <td>348289187</td>\n",
       "      <td>329591186</td>\n",
       "      <td>71066005</td>\n",
       "    </tr>\n",
       "  </tbody>\n",
       "</table>\n",
       "</div>"
      ],
      "text/plain": [
       "City  Bengaluru, India  Greater Mumbai, India  Ahmedabad, India  Delhi, India  \\\n",
       "Year                                                                            \n",
       "2014         351482095              349709415         348289187     329591186   \n",
       "\n",
       "City  Hyderabad, India  \n",
       "Year                    \n",
       "2014          71066005  "
      ]
     },
     "metadata": {},
     "output_type": "display_data"
    },
    {
     "data": {
      "text/html": [
       "<div>\n",
       "<style scoped>\n",
       "    .dataframe tbody tr th:only-of-type {\n",
       "        vertical-align: middle;\n",
       "    }\n",
       "\n",
       "    .dataframe tbody tr th {\n",
       "        vertical-align: top;\n",
       "    }\n",
       "\n",
       "    .dataframe thead th {\n",
       "        text-align: right;\n",
       "    }\n",
       "</style>\n",
       "<table border=\"1\" class=\"dataframe\">\n",
       "  <thead>\n",
       "    <tr style=\"text-align: right;\">\n",
       "      <th>City</th>\n",
       "      <th>Delhi, India</th>\n",
       "      <th>Greater Mumbai, India</th>\n",
       "      <th>Ahmedabad, India</th>\n",
       "      <th>Bengaluru, India</th>\n",
       "      <th>Kolkata, India</th>\n",
       "    </tr>\n",
       "    <tr>\n",
       "      <th>Year</th>\n",
       "      <th></th>\n",
       "      <th></th>\n",
       "      <th></th>\n",
       "      <th></th>\n",
       "      <th></th>\n",
       "    </tr>\n",
       "  </thead>\n",
       "  <tbody>\n",
       "    <tr>\n",
       "      <th>2015</th>\n",
       "      <td>145211065</td>\n",
       "      <td>142306409</td>\n",
       "      <td>136213286</td>\n",
       "      <td>135845357</td>\n",
       "      <td>30918731</td>\n",
       "    </tr>\n",
       "  </tbody>\n",
       "</table>\n",
       "</div>"
      ],
      "text/plain": [
       "City  Delhi, India  Greater Mumbai, India  Ahmedabad, India  Bengaluru, India  \\\n",
       "Year                                                                            \n",
       "2015     145211065              142306409         136213286         135845357   \n",
       "\n",
       "City  Kolkata, India  \n",
       "Year                  \n",
       "2015        30918731  "
      ]
     },
     "metadata": {},
     "output_type": "display_data"
    },
    {
     "data": {
      "image/png": "[encoded data removed]",
      "text/plain": [
       "<Figure size 432x288 with 1 Axes>"
      ]
     },
     "metadata": {
      "needs_background": "light"
     },
     "output_type": "display_data"
    }
   ],
   "source": [
    "N = 5\n",
    "x = np.arange(N)\n",
    "width = 0.20\n",
    "\n",
    "labels = [f\"City {i}\" for i in range(1, N+1)]\n",
    "fig, ax = plt.subplots()\n",
    "\n",
    "for idx, year in enumerate(sorted(bank_data['Year'].unique()), start=-1):\n",
    "    data = bank_data[bank_data['Year'] == year].groupby(by=['Year', 'City']).agg({'Amount': 'sum'}).sort_values(by='Amount', ascending=False).head(N)\n",
    "\n",
    "    org_columns = list(map(lambda c: c[1], data.index.values))\n",
    "    display(data.pivot_table('Amount', ['Year'], 'City', sort=False)[org_columns])\n",
    "\n",
    "    rects = ax.bar(x + (idx*width), data['Amount'], width, label=year)\n",
    "\n",
    "    # Add some text for labels, title and custom x-axis tick labels, etc.\n",
    "    ax.set_ylabel('Amount')\n",
    "    ax.set_title('Amount by City and Year')\n",
    "    ax.set_xticks(x, labels)\n",
    "    ax.legend()\n",
    "\n",
    "    for rect, label in zip(rects, data.index.values):\n",
    "        height = rect.get_height()\n",
    "        ax.text(\n",
    "            rect.get_x() + rect.get_width() / 2, height + 5, label[1].replace(', India', ''), ha=\"center\", va=\"bottom\"\n",
    "        )\n",
    "\n",
    "fig.tight_layout()\n",
    "\n",
    "plt.show()"
   ]
  },
  {
   "cell_type": "markdown",
   "metadata": {},
   "source": [
    "## Report 2: Gender Expenses Analysis\n",
    "This section explores the expenses made by gender."
   ]
  },
  {
   "cell_type": "markdown",
   "metadata": {},
   "source": [
    "### Expense Type Analysis\n",
    "A short analysis for the expenses types is performed to identify which unique values there are and how the observations are distributed across them."
   ]
  },
  {
   "cell_type": "code",
   "execution_count": 106,
   "metadata": {},
   "outputs": [
    {
     "data": {
      "text/plain": [
       "array(['Bills', 'Food', 'Entertainment', 'Grocery', 'Fuel', 'Travel'],\n",
       "      dtype=object)"
      ]
     },
     "execution_count": 106,
     "metadata": {},
     "output_type": "execute_result"
    }
   ],
   "source": [
    "\n",
    "bank_data[\"Exp Type\"].unique()"
   ]
  },
  {
   "cell_type": "code",
   "execution_count": 146,
   "metadata": {},
   "outputs": [
    {
     "data": {
      "text/plain": [
       "<seaborn.axisgrid.FacetGrid at 0x13d04e1f0>"
      ]
     },
     "execution_count": 146,
     "metadata": {},
     "output_type": "execute_result"
    },
    {
     "data": {
      "image/png": "[encoded data removed]",
      "text/plain": [
       "<Figure size 360x360 with 1 Axes>"
      ]
     },
     "metadata": {
      "needs_background": "light"
     },
     "output_type": "display_data"
    }
   ],
   "source": [
    "sns.displot(bank_data[\"Exp Type\"])"
   ]
  },
  {
   "cell_type": "markdown",
   "metadata": {},
   "source": [
    "### Card type analysis\n",
    "A short analysis for the different Card types is performed to identify which unique values there are and how the observations are distributed across them."
   ]
  },
  {
   "cell_type": "code",
   "execution_count": 121,
   "metadata": {},
   "outputs": [
    {
     "data": {
      "text/plain": [
       "array(['Gold', 'Platinum', 'Silver', 'Signature'], dtype=object)"
      ]
     },
     "execution_count": 121,
     "metadata": {},
     "output_type": "execute_result"
    }
   ],
   "source": [
    "bank_data[\"Card Type\"].unique()"
   ]
  },
  {
   "cell_type": "code",
   "execution_count": 122,
   "metadata": {},
   "outputs": [
    {
     "data": {
      "text/plain": [
       "<seaborn.axisgrid.FacetGrid at 0x13c897b20>"
      ]
     },
     "execution_count": 122,
     "metadata": {},
     "output_type": "execute_result"
    },
    {
     "data": {
      "image/png": "[encoded data removed]",
      "text/plain": [
       "<Figure size 360x360 with 1 Axes>"
      ]
     },
     "metadata": {
      "needs_background": "light"
     },
     "output_type": "display_data"
    }
   ],
   "source": [
    "sns.displot(bank_data[\"Card Type\"])"
   ]
  },
  {
   "cell_type": "markdown",
   "metadata": {},
   "source": [
    "### Gender analysis\n",
    "A short analysis for the Genders is performed to identify which unique values there are and how the observations are distributed across them."
   ]
  },
  {
   "cell_type": "code",
   "execution_count": 123,
   "metadata": {},
   "outputs": [
    {
     "data": {
      "text/plain": [
       "array(['F', 'M'], dtype=object)"
      ]
     },
     "execution_count": 123,
     "metadata": {},
     "output_type": "execute_result"
    }
   ],
   "source": [
    "bank_data[\"Gender\"].unique()"
   ]
  },
  {
   "cell_type": "code",
   "execution_count": 124,
   "metadata": {},
   "outputs": [
    {
     "data": {
      "text/plain": [
       "<seaborn.axisgrid.FacetGrid at 0x13b6f07f0>"
      ]
     },
     "execution_count": 124,
     "metadata": {},
     "output_type": "execute_result"
    },
    {
     "data": {
      "image/png": "[encoded data removed]",
      "text/plain": [
       "<Figure size 360x360 with 1 Axes>"
      ]
     },
     "metadata": {
      "needs_background": "light"
     },
     "output_type": "display_data"
    }
   ],
   "source": [
    "sns.displot(bank_data[\"Gender\"])"
   ]
  },
  {
   "cell_type": "markdown",
   "metadata": {},
   "source": [
    "### Dates analysis\n",
    "A short analysis for the different dates is performed to identify which unique values there are and how the observations are distributed across them."
   ]
  },
  {
   "cell_type": "code",
   "execution_count": 110,
   "metadata": {},
   "outputs": [],
   "source": [
    "bank_data['Short date'] = pd.to_datetime(bank_data[\"Date\"]).dt.strftime('%Y-%m')"
   ]
  },
  {
   "cell_type": "code",
   "execution_count": 117,
   "metadata": {},
   "outputs": [
    {
     "data": {
      "text/plain": [
       "['2013-10',\n",
       " '2013-11',\n",
       " '2013-12',\n",
       " '2014-01',\n",
       " '2014-02',\n",
       " '2014-03',\n",
       " '2014-04',\n",
       " '2014-05',\n",
       " '2014-06',\n",
       " '2014-07',\n",
       " '2014-08',\n",
       " '2014-09',\n",
       " '2014-10',\n",
       " '2014-11',\n",
       " '2014-12',\n",
       " '2015-01',\n",
       " '2015-02',\n",
       " '2015-03',\n",
       " '2015-04',\n",
       " '2015-05']"
      ]
     },
     "execution_count": 117,
     "metadata": {},
     "output_type": "execute_result"
    }
   ],
   "source": [
    "sorted(bank_data['Short date'].unique())"
   ]
  },
  {
   "cell_type": "code",
   "execution_count": 143,
   "metadata": {},
   "outputs": [
    {
     "data": {
      "text/plain": [
       "<AxesSubplot:xlabel='Short date'>"
      ]
     },
     "execution_count": 143,
     "metadata": {},
     "output_type": "execute_result"
    },
    {
     "data": {
      "image/png": "[encoded data removed]",
      "text/plain": [
       "<Figure size 2160x648 with 1 Axes>"
      ]
     },
     "metadata": {
      "needs_background": "light"
     },
     "output_type": "display_data"
    }
   ],
   "source": [
    "pyplot.figure(figsize=(30,9))\n",
    "bank_data.value_counts('Short date', sort=False).plot()"
   ]
  },
  {
   "cell_type": "code",
   "execution_count": 145,
   "metadata": {},
   "outputs": [
    {
     "data": {
      "text/html": [
       "<div>\n",
       "<style scoped>\n",
       "    .dataframe tbody tr th:only-of-type {\n",
       "        vertical-align: middle;\n",
       "    }\n",
       "\n",
       "    .dataframe tbody tr th {\n",
       "        vertical-align: top;\n",
       "    }\n",
       "\n",
       "    .dataframe thead th {\n",
       "        text-align: right;\n",
       "    }\n",
       "</style>\n",
       "<table border=\"1\" class=\"dataframe\">\n",
       "  <thead>\n",
       "    <tr style=\"text-align: right;\">\n",
       "      <th></th>\n",
       "      <th>Amount</th>\n",
       "    </tr>\n",
       "  </thead>\n",
       "  <tbody>\n",
       "    <tr>\n",
       "      <th>Amount</th>\n",
       "      <td>1.0</td>\n",
       "    </tr>\n",
       "  </tbody>\n",
       "</table>\n",
       "</div>"
      ],
      "text/plain": [
       "        Amount\n",
       "Amount     1.0"
      ]
     },
     "execution_count": 145,
     "metadata": {},
     "output_type": "execute_result"
    }
   ],
   "source": [
    "bank_data.corr()"
   ]
  },
  {
   "cell_type": "markdown",
   "metadata": {},
   "source": [
    "## Fraud detection Report\n",
    "This section focuses on detecting possible fraud transactions for the data provided."
   ]
  },
  {
   "cell_type": "markdown",
   "metadata": {},
   "source": [
    "## References\n",
    "* [Simple Scatter Plots](https://jakevdp.github.io/PythonDataScienceHandbook/04.02-simple-scatter-plots.html)\n",
    "* "
   ]
  }
 ],
 "metadata": {
  "interpreter": {
   "hash": "b3e1a64099489025dea578c604b1d3b3f8dcc51efd498330d2b7c9258be778bd"
  },
  "kernelspec": {
   "display_name": "Python 3.8.12 ('assignment3')",
   "language": "python",
   "name": "python3"
  },
  "language_info": {
   "codemirror_mode": {
    "name": "ipython",
    "version": 3
   },
   "file_extension": ".py",
   "mimetype": "text/x-python",
   "name": "python",
   "nbconvert_exporter": "python",
   "pygments_lexer": "ipython3",
   "version": "3.8.12"
  },
  "orig_nbformat": 4
 },
 "nbformat": 4,
 "nbformat_minor": 2
}
