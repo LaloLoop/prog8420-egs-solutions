{
 "cells": [
  {
   "cell_type": "markdown",
   "metadata": {},
   "source": [
    "# Transactions data analysis\n",
    "This notebook analyzes the provided Bank data to present the following:\n",
    "* 3 Reports and Graphs of the data\n",
    "* Fraud detection from the data\n",
    "\n",
    "The snippet below installs the required dependencies."
   ]
  },
  {
   "cell_type": "code",
   "execution_count": 13,
   "metadata": {},
   "outputs": [
    {
     "name": "stdout",
     "output_type": "stream",
     "text": [
      "Requirement already satisfied: pandas in /Users/eduardo.gutierrez/Envs/assignment3/lib/python3.8/site-packages (1.4.2)\n",
      "Requirement already satisfied: pytz>=2020.1 in /Users/eduardo.gutierrez/Envs/assignment3/lib/python3.8/site-packages (from pandas) (2022.1)\n",
      "Requirement already satisfied: numpy>=1.18.5 in /Users/eduardo.gutierrez/Envs/assignment3/lib/python3.8/site-packages (from pandas) (1.22.3)\n",
      "Requirement already satisfied: python-dateutil>=2.8.1 in /Users/eduardo.gutierrez/Envs/assignment3/lib/python3.8/site-packages (from pandas) (2.8.2)\n",
      "Requirement already satisfied: six>=1.5 in /Users/eduardo.gutierrez/Envs/assignment3/lib/python3.8/site-packages (from python-dateutil>=2.8.1->pandas) (1.16.0)\n",
      "\u001b[33mWARNING: You are using pip version 21.3.1; however, version 22.0.4 is available.\n",
      "You should consider upgrading via the '/Users/eduardo.gutierrez/Envs/assignment3/bin/python -m pip install --upgrade pip' command.\u001b[0m\n",
      "Requirement already satisfied: openpyxl in /Users/eduardo.gutierrez/Envs/assignment3/lib/python3.8/site-packages (3.0.9)\n",
      "Requirement already satisfied: et-xmlfile in /Users/eduardo.gutierrez/Envs/assignment3/lib/python3.8/site-packages (from openpyxl) (1.1.0)\n",
      "\u001b[33mWARNING: You are using pip version 21.3.1; however, version 22.0.4 is available.\n",
      "You should consider upgrading via the '/Users/eduardo.gutierrez/Envs/assignment3/bin/python -m pip install --upgrade pip' command.\u001b[0m\n",
      "Requirement already satisfied: statsmodels in /Users/eduardo.gutierrez/Envs/assignment3/lib/python3.8/site-packages (0.13.2)\n",
      "Requirement already satisfied: numpy>=1.17 in /Users/eduardo.gutierrez/Envs/assignment3/lib/python3.8/site-packages (from statsmodels) (1.22.3)\n",
      "Requirement already satisfied: scipy>=1.3 in /Users/eduardo.gutierrez/Envs/assignment3/lib/python3.8/site-packages (from statsmodels) (1.8.0)\n",
      "Requirement already satisfied: packaging>=21.3 in /Users/eduardo.gutierrez/Envs/assignment3/lib/python3.8/site-packages (from statsmodels) (21.3)\n",
      "Requirement already satisfied: pandas>=0.25 in /Users/eduardo.gutierrez/Envs/assignment3/lib/python3.8/site-packages (from statsmodels) (1.4.2)\n",
      "Requirement already satisfied: patsy>=0.5.2 in /Users/eduardo.gutierrez/Envs/assignment3/lib/python3.8/site-packages (from statsmodels) (0.5.2)\n",
      "Requirement already satisfied: pyparsing!=3.0.5,>=2.0.2 in /Users/eduardo.gutierrez/Envs/assignment3/lib/python3.8/site-packages (from packaging>=21.3->statsmodels) (3.0.7)\n",
      "Requirement already satisfied: python-dateutil>=2.8.1 in /Users/eduardo.gutierrez/Envs/assignment3/lib/python3.8/site-packages (from pandas>=0.25->statsmodels) (2.8.2)\n",
      "Requirement already satisfied: pytz>=2020.1 in /Users/eduardo.gutierrez/Envs/assignment3/lib/python3.8/site-packages (from pandas>=0.25->statsmodels) (2022.1)\n",
      "Requirement already satisfied: six in /Users/eduardo.gutierrez/Envs/assignment3/lib/python3.8/site-packages (from patsy>=0.5.2->statsmodels) (1.16.0)\n",
      "\u001b[33mWARNING: You are using pip version 21.3.1; however, version 22.0.4 is available.\n",
      "You should consider upgrading via the '/Users/eduardo.gutierrez/Envs/assignment3/bin/python -m pip install --upgrade pip' command.\u001b[0m\n",
      "Requirement already satisfied: matplotlib in /Users/eduardo.gutierrez/Envs/assignment3/lib/python3.8/site-packages (3.5.1)\n",
      "Requirement already satisfied: fonttools>=4.22.0 in /Users/eduardo.gutierrez/Envs/assignment3/lib/python3.8/site-packages (from matplotlib) (4.31.2)\n",
      "Requirement already satisfied: kiwisolver>=1.0.1 in /Users/eduardo.gutierrez/Envs/assignment3/lib/python3.8/site-packages (from matplotlib) (1.4.2)\n",
      "Requirement already satisfied: pillow>=6.2.0 in /Users/eduardo.gutierrez/Envs/assignment3/lib/python3.8/site-packages (from matplotlib) (9.1.0)\n",
      "Requirement already satisfied: python-dateutil>=2.7 in /Users/eduardo.gutierrez/Envs/assignment3/lib/python3.8/site-packages (from matplotlib) (2.8.2)\n",
      "Requirement already satisfied: packaging>=20.0 in /Users/eduardo.gutierrez/Envs/assignment3/lib/python3.8/site-packages (from matplotlib) (21.3)\n",
      "Requirement already satisfied: cycler>=0.10 in /Users/eduardo.gutierrez/Envs/assignment3/lib/python3.8/site-packages (from matplotlib) (0.11.0)\n",
      "Requirement already satisfied: pyparsing>=2.2.1 in /Users/eduardo.gutierrez/Envs/assignment3/lib/python3.8/site-packages (from matplotlib) (3.0.7)\n",
      "Requirement already satisfied: numpy>=1.17 in /Users/eduardo.gutierrez/Envs/assignment3/lib/python3.8/site-packages (from matplotlib) (1.22.3)\n",
      "Requirement already satisfied: six>=1.5 in /Users/eduardo.gutierrez/Envs/assignment3/lib/python3.8/site-packages (from python-dateutil>=2.7->matplotlib) (1.16.0)\n",
      "\u001b[33mWARNING: You are using pip version 21.3.1; however, version 22.0.4 is available.\n",
      "You should consider upgrading via the '/Users/eduardo.gutierrez/Envs/assignment3/bin/python -m pip install --upgrade pip' command.\u001b[0m\n",
      "Requirement already satisfied: seaborn in /Users/eduardo.gutierrez/Envs/assignment3/lib/python3.8/site-packages (0.11.2)\n",
      "Requirement already satisfied: matplotlib>=2.2 in /Users/eduardo.gutierrez/Envs/assignment3/lib/python3.8/site-packages (from seaborn) (3.5.1)\n",
      "Requirement already satisfied: numpy>=1.15 in /Users/eduardo.gutierrez/Envs/assignment3/lib/python3.8/site-packages (from seaborn) (1.22.3)\n",
      "Requirement already satisfied: scipy>=1.0 in /Users/eduardo.gutierrez/Envs/assignment3/lib/python3.8/site-packages (from seaborn) (1.8.0)\n",
      "Requirement already satisfied: pandas>=0.23 in /Users/eduardo.gutierrez/Envs/assignment3/lib/python3.8/site-packages (from seaborn) (1.4.2)\n",
      "Requirement already satisfied: cycler>=0.10 in /Users/eduardo.gutierrez/Envs/assignment3/lib/python3.8/site-packages (from matplotlib>=2.2->seaborn) (0.11.0)\n",
      "Requirement already satisfied: python-dateutil>=2.7 in /Users/eduardo.gutierrez/Envs/assignment3/lib/python3.8/site-packages (from matplotlib>=2.2->seaborn) (2.8.2)\n",
      "Requirement already satisfied: kiwisolver>=1.0.1 in /Users/eduardo.gutierrez/Envs/assignment3/lib/python3.8/site-packages (from matplotlib>=2.2->seaborn) (1.4.2)\n",
      "Requirement already satisfied: pillow>=6.2.0 in /Users/eduardo.gutierrez/Envs/assignment3/lib/python3.8/site-packages (from matplotlib>=2.2->seaborn) (9.1.0)\n",
      "Requirement already satisfied: pyparsing>=2.2.1 in /Users/eduardo.gutierrez/Envs/assignment3/lib/python3.8/site-packages (from matplotlib>=2.2->seaborn) (3.0.7)\n",
      "Requirement already satisfied: fonttools>=4.22.0 in /Users/eduardo.gutierrez/Envs/assignment3/lib/python3.8/site-packages (from matplotlib>=2.2->seaborn) (4.31.2)\n",
      "Requirement already satisfied: packaging>=20.0 in /Users/eduardo.gutierrez/Envs/assignment3/lib/python3.8/site-packages (from matplotlib>=2.2->seaborn) (21.3)\n",
      "Requirement already satisfied: pytz>=2020.1 in /Users/eduardo.gutierrez/Envs/assignment3/lib/python3.8/site-packages (from pandas>=0.23->seaborn) (2022.1)\n",
      "Requirement already satisfied: six>=1.5 in /Users/eduardo.gutierrez/Envs/assignment3/lib/python3.8/site-packages (from python-dateutil>=2.7->matplotlib>=2.2->seaborn) (1.16.0)\n",
      "\u001b[33mWARNING: You are using pip version 21.3.1; however, version 22.0.4 is available.\n",
      "You should consider upgrading via the '/Users/eduardo.gutierrez/Envs/assignment3/bin/python -m pip install --upgrade pip' command.\u001b[0m\n"
     ]
    }
   ],
   "source": [
    "import sys\n",
    "!{sys.executable} -m pip install pandas\n",
    "!{sys.executable} -m pip install openpyxl\n",
    "!{sys.executable} -m pip install statsmodels\n",
    "!{sys.executable} -m pip install matplotlib\n",
    "!{sys.executable} -m pip install seaborn"
   ]
  },
  {
   "cell_type": "markdown",
   "metadata": {},
   "source": [
    "Pandas is imported to load and analyze the data."
   ]
  },
  {
   "cell_type": "code",
   "execution_count": 14,
   "metadata": {},
   "outputs": [],
   "source": [
    "import pandas as pd\n",
    "import seaborn as sns\n",
    "import matplotlib.pyplot as plt\n",
    "import numpy as np"
   ]
  },
  {
   "cell_type": "markdown",
   "metadata": {},
   "source": [
    "Loading the transactions information from an excel file."
   ]
  },
  {
   "cell_type": "code",
   "execution_count": 15,
   "metadata": {},
   "outputs": [],
   "source": [
    "bank_data = pd.read_excel(\"CC-3Y-Transactions.xlsx\")"
   ]
  },
  {
   "cell_type": "markdown",
   "metadata": {},
   "source": [
    "The available columns can now be inspected by showing a sample of the first 15 rows."
   ]
  },
  {
   "cell_type": "code",
   "execution_count": 16,
   "metadata": {},
   "outputs": [
    {
     "data": {
      "text/html": [
       "<div>\n",
       "<style scoped>\n",
       "    .dataframe tbody tr th:only-of-type {\n",
       "        vertical-align: middle;\n",
       "    }\n",
       "\n",
       "    .dataframe tbody tr th {\n",
       "        vertical-align: top;\n",
       "    }\n",
       "\n",
       "    .dataframe thead th {\n",
       "        text-align: right;\n",
       "    }\n",
       "</style>\n",
       "<table border=\"1\" class=\"dataframe\">\n",
       "  <thead>\n",
       "    <tr style=\"text-align: right;\">\n",
       "      <th></th>\n",
       "      <th>City</th>\n",
       "      <th>Date</th>\n",
       "      <th>Card Type</th>\n",
       "      <th>Exp Type</th>\n",
       "      <th>Gender</th>\n",
       "      <th>Amount</th>\n",
       "    </tr>\n",
       "  </thead>\n",
       "  <tbody>\n",
       "    <tr>\n",
       "      <th>0</th>\n",
       "      <td>Delhi, India</td>\n",
       "      <td>2014-10-29</td>\n",
       "      <td>Gold</td>\n",
       "      <td>Bills</td>\n",
       "      <td>F</td>\n",
       "      <td>82475</td>\n",
       "    </tr>\n",
       "    <tr>\n",
       "      <th>1</th>\n",
       "      <td>Greater Mumbai, India</td>\n",
       "      <td>2014-08-22</td>\n",
       "      <td>Platinum</td>\n",
       "      <td>Bills</td>\n",
       "      <td>F</td>\n",
       "      <td>32555</td>\n",
       "    </tr>\n",
       "    <tr>\n",
       "      <th>2</th>\n",
       "      <td>Bengaluru, India</td>\n",
       "      <td>2014-08-27</td>\n",
       "      <td>Silver</td>\n",
       "      <td>Bills</td>\n",
       "      <td>F</td>\n",
       "      <td>101738</td>\n",
       "    </tr>\n",
       "    <tr>\n",
       "      <th>3</th>\n",
       "      <td>Greater Mumbai, India</td>\n",
       "      <td>2014-04-12</td>\n",
       "      <td>Signature</td>\n",
       "      <td>Bills</td>\n",
       "      <td>F</td>\n",
       "      <td>123424</td>\n",
       "    </tr>\n",
       "    <tr>\n",
       "      <th>4</th>\n",
       "      <td>Bengaluru, India</td>\n",
       "      <td>2015-05-05</td>\n",
       "      <td>Gold</td>\n",
       "      <td>Bills</td>\n",
       "      <td>F</td>\n",
       "      <td>171574</td>\n",
       "    </tr>\n",
       "    <tr>\n",
       "      <th>5</th>\n",
       "      <td>Delhi, India</td>\n",
       "      <td>2014-09-08</td>\n",
       "      <td>Silver</td>\n",
       "      <td>Bills</td>\n",
       "      <td>F</td>\n",
       "      <td>100036</td>\n",
       "    </tr>\n",
       "    <tr>\n",
       "      <th>6</th>\n",
       "      <td>Delhi, India</td>\n",
       "      <td>2015-02-24</td>\n",
       "      <td>Gold</td>\n",
       "      <td>Bills</td>\n",
       "      <td>F</td>\n",
       "      <td>143250</td>\n",
       "    </tr>\n",
       "    <tr>\n",
       "      <th>7</th>\n",
       "      <td>Greater Mumbai, India</td>\n",
       "      <td>2014-06-26</td>\n",
       "      <td>Platinum</td>\n",
       "      <td>Bills</td>\n",
       "      <td>F</td>\n",
       "      <td>150980</td>\n",
       "    </tr>\n",
       "    <tr>\n",
       "      <th>8</th>\n",
       "      <td>Delhi, India</td>\n",
       "      <td>2014-03-28</td>\n",
       "      <td>Silver</td>\n",
       "      <td>Bills</td>\n",
       "      <td>F</td>\n",
       "      <td>192247</td>\n",
       "    </tr>\n",
       "    <tr>\n",
       "      <th>9</th>\n",
       "      <td>Delhi, India</td>\n",
       "      <td>2014-09-01</td>\n",
       "      <td>Platinum</td>\n",
       "      <td>Bills</td>\n",
       "      <td>F</td>\n",
       "      <td>67932</td>\n",
       "    </tr>\n",
       "  </tbody>\n",
       "</table>\n",
       "</div>"
      ],
      "text/plain": [
       "                    City       Date  Card Type Exp Type Gender  Amount\n",
       "0           Delhi, India 2014-10-29       Gold    Bills      F   82475\n",
       "1  Greater Mumbai, India 2014-08-22   Platinum    Bills      F   32555\n",
       "2       Bengaluru, India 2014-08-27     Silver    Bills      F  101738\n",
       "3  Greater Mumbai, India 2014-04-12  Signature    Bills      F  123424\n",
       "4       Bengaluru, India 2015-05-05       Gold    Bills      F  171574\n",
       "5           Delhi, India 2014-09-08     Silver    Bills      F  100036\n",
       "6           Delhi, India 2015-02-24       Gold    Bills      F  143250\n",
       "7  Greater Mumbai, India 2014-06-26   Platinum    Bills      F  150980\n",
       "8           Delhi, India 2014-03-28     Silver    Bills      F  192247\n",
       "9           Delhi, India 2014-09-01   Platinum    Bills      F   67932"
      ]
     },
     "execution_count": 16,
     "metadata": {},
     "output_type": "execute_result"
    }
   ],
   "source": [
    "bank_data.head(10)"
   ]
  },
  {
   "cell_type": "markdown",
   "metadata": {},
   "source": [
    "Let's review the structure and information of the dataset."
   ]
  },
  {
   "cell_type": "code",
   "execution_count": 17,
   "metadata": {},
   "outputs": [
    {
     "name": "stdout",
     "output_type": "stream",
     "text": [
      "(26052, 6)\n",
      "<class 'pandas.core.frame.DataFrame'>\n",
      "RangeIndex: 26052 entries, 0 to 26051\n",
      "Data columns (total 6 columns):\n",
      " #   Column     Non-Null Count  Dtype         \n",
      "---  ------     --------------  -----         \n",
      " 0   City       26052 non-null  object        \n",
      " 1   Date       26052 non-null  datetime64[ns]\n",
      " 2   Card Type  26052 non-null  object        \n",
      " 3   Exp Type   26052 non-null  object        \n",
      " 4   Gender     26052 non-null  object        \n",
      " 5   Amount     26052 non-null  int64         \n",
      "dtypes: datetime64[ns](1), int64(1), object(4)\n",
      "memory usage: 1.2+ MB\n"
     ]
    }
   ],
   "source": [
    "print(bank_data.shape)\n",
    "bank_data.info()"
   ]
  },
  {
   "cell_type": "markdown",
   "metadata": {},
   "source": [
    "From the information above, it's noticeable that there are not null entries in the records for each column, since the number of non-null entries for each one is equal to the total amount shown by `RangeIndex`, 26,052."
   ]
  },
  {
   "cell_type": "markdown",
   "metadata": {},
   "source": [
    "## Report 1: Top Cities Expenses\n",
    "In this section exploration is carried based on the available cities. We start by adding the date component for easier grouping of the data."
   ]
  },
  {
   "cell_type": "code",
   "execution_count": 18,
   "metadata": {},
   "outputs": [
    {
     "name": "stdout",
     "output_type": "stream",
     "text": [
      "<class 'pandas.core.frame.DataFrame'>\n",
      "RangeIndex: 26052 entries, 0 to 26051\n",
      "Data columns (total 7 columns):\n",
      " #   Column     Non-Null Count  Dtype         \n",
      "---  ------     --------------  -----         \n",
      " 0   City       26052 non-null  object        \n",
      " 1   Date       26052 non-null  datetime64[ns]\n",
      " 2   Card Type  26052 non-null  object        \n",
      " 3   Exp Type   26052 non-null  object        \n",
      " 4   Gender     26052 non-null  object        \n",
      " 5   Amount     26052 non-null  int64         \n",
      " 6   Year       26052 non-null  object        \n",
      "dtypes: datetime64[ns](1), int64(1), object(5)\n",
      "memory usage: 1.4+ MB\n"
     ]
    }
   ],
   "source": [
    "bank_data['Year'] = pd.to_datetime(bank_data[\"Date\"]).dt.strftime('%Y')\n",
    "bank_data.info()"
   ]
  },
  {
   "cell_type": "code",
   "execution_count": 19,
   "metadata": {},
   "outputs": [
    {
     "data": {
      "text/html": [
       "<div>\n",
       "<style scoped>\n",
       "    .dataframe tbody tr th:only-of-type {\n",
       "        vertical-align: middle;\n",
       "    }\n",
       "\n",
       "    .dataframe tbody tr th {\n",
       "        vertical-align: top;\n",
       "    }\n",
       "\n",
       "    .dataframe thead th {\n",
       "        text-align: right;\n",
       "    }\n",
       "</style>\n",
       "<table border=\"1\" class=\"dataframe\">\n",
       "  <thead>\n",
       "    <tr style=\"text-align: right;\">\n",
       "      <th>City</th>\n",
       "      <th>Bengaluru, India</th>\n",
       "      <th>Greater Mumbai, India</th>\n",
       "      <th>Ahmedabad, India</th>\n",
       "      <th>Delhi, India</th>\n",
       "      <th>Kanpur, India</th>\n",
       "    </tr>\n",
       "    <tr>\n",
       "      <th>Year</th>\n",
       "      <th></th>\n",
       "      <th></th>\n",
       "      <th></th>\n",
       "      <th></th>\n",
       "      <th></th>\n",
       "    </tr>\n",
       "  </thead>\n",
       "  <tbody>\n",
       "    <tr>\n",
       "      <th>2013</th>\n",
       "      <td>84999287</td>\n",
       "      <td>84735652</td>\n",
       "      <td>83291837</td>\n",
       "      <td>82126961</td>\n",
       "      <td>19640338</td>\n",
       "    </tr>\n",
       "  </tbody>\n",
       "</table>\n",
       "</div>"
      ],
      "text/plain": [
       "City  Bengaluru, India  Greater Mumbai, India  Ahmedabad, India  Delhi, India  \\\n",
       "Year                                                                            \n",
       "2013          84999287               84735652          83291837      82126961   \n",
       "\n",
       "City  Kanpur, India  \n",
       "Year                 \n",
       "2013       19640338  "
      ]
     },
     "metadata": {},
     "output_type": "display_data"
    },
    {
     "data": {
      "text/html": [
       "<div>\n",
       "<style scoped>\n",
       "    .dataframe tbody tr th:only-of-type {\n",
       "        vertical-align: middle;\n",
       "    }\n",
       "\n",
       "    .dataframe tbody tr th {\n",
       "        vertical-align: top;\n",
       "    }\n",
       "\n",
       "    .dataframe thead th {\n",
       "        text-align: right;\n",
       "    }\n",
       "</style>\n",
       "<table border=\"1\" class=\"dataframe\">\n",
       "  <thead>\n",
       "    <tr style=\"text-align: right;\">\n",
       "      <th>City</th>\n",
       "      <th>Bengaluru, India</th>\n",
       "      <th>Greater Mumbai, India</th>\n",
       "      <th>Ahmedabad, India</th>\n",
       "      <th>Delhi, India</th>\n",
       "      <th>Hyderabad, India</th>\n",
       "    </tr>\n",
       "    <tr>\n",
       "      <th>Year</th>\n",
       "      <th></th>\n",
       "      <th></th>\n",
       "      <th></th>\n",
       "      <th></th>\n",
       "      <th></th>\n",
       "    </tr>\n",
       "  </thead>\n",
       "  <tbody>\n",
       "    <tr>\n",
       "      <th>2014</th>\n",
       "      <td>351482095</td>\n",
       "      <td>349709415</td>\n",
       "      <td>348289187</td>\n",
       "      <td>329591186</td>\n",
       "      <td>71066005</td>\n",
       "    </tr>\n",
       "  </tbody>\n",
       "</table>\n",
       "</div>"
      ],
      "text/plain": [
       "City  Bengaluru, India  Greater Mumbai, India  Ahmedabad, India  Delhi, India  \\\n",
       "Year                                                                            \n",
       "2014         351482095              349709415         348289187     329591186   \n",
       "\n",
       "City  Hyderabad, India  \n",
       "Year                    \n",
       "2014          71066005  "
      ]
     },
     "metadata": {},
     "output_type": "display_data"
    },
    {
     "data": {
      "text/html": [
       "<div>\n",
       "<style scoped>\n",
       "    .dataframe tbody tr th:only-of-type {\n",
       "        vertical-align: middle;\n",
       "    }\n",
       "\n",
       "    .dataframe tbody tr th {\n",
       "        vertical-align: top;\n",
       "    }\n",
       "\n",
       "    .dataframe thead th {\n",
       "        text-align: right;\n",
       "    }\n",
       "</style>\n",
       "<table border=\"1\" class=\"dataframe\">\n",
       "  <thead>\n",
       "    <tr style=\"text-align: right;\">\n",
       "      <th>City</th>\n",
       "      <th>Delhi, India</th>\n",
       "      <th>Greater Mumbai, India</th>\n",
       "      <th>Ahmedabad, India</th>\n",
       "      <th>Bengaluru, India</th>\n",
       "      <th>Kolkata, India</th>\n",
       "    </tr>\n",
       "    <tr>\n",
       "      <th>Year</th>\n",
       "      <th></th>\n",
       "      <th></th>\n",
       "      <th></th>\n",
       "      <th></th>\n",
       "      <th></th>\n",
       "    </tr>\n",
       "  </thead>\n",
       "  <tbody>\n",
       "    <tr>\n",
       "      <th>2015</th>\n",
       "      <td>145211065</td>\n",
       "      <td>142306409</td>\n",
       "      <td>136213286</td>\n",
       "      <td>135845357</td>\n",
       "      <td>30918731</td>\n",
       "    </tr>\n",
       "  </tbody>\n",
       "</table>\n",
       "</div>"
      ],
      "text/plain": [
       "City  Delhi, India  Greater Mumbai, India  Ahmedabad, India  Bengaluru, India  \\\n",
       "Year                                                                            \n",
       "2015     145211065              142306409         136213286         135845357   \n",
       "\n",
       "City  Kolkata, India  \n",
       "Year                  \n",
       "2015        30918731  "
      ]
     },
     "metadata": {},
     "output_type": "display_data"
    },
    {
     "data": {
      "image/png": "[encoded data removed]",
      "text/plain": [
       "<Figure size 432x288 with 1 Axes>"
      ]
     },
     "metadata": {
      "needs_background": "light"
     },
     "output_type": "display_data"
    }
   ],
   "source": [
    "N = 5\n",
    "x = np.arange(N)\n",
    "width = 0.20\n",
    "\n",
    "labels = [f\"City {i}\" for i in range(1, N+1)]\n",
    "fig, ax = plt.subplots()\n",
    "\n",
    "for idx, year in enumerate(sorted(bank_data['Year'].unique()), start=-1):\n",
    "    data = bank_data[bank_data['Year'] == year].groupby(by=['Year', 'City']).agg({'Amount': 'sum'}).sort_values(by='Amount', ascending=False).head(N)\n",
    "\n",
    "    org_columns = list(map(lambda c: c[1], data.index.values))\n",
    "    display(data.pivot_table('Amount', ['Year'], 'City')[org_columns])\n",
    "\n",
    "    rects = ax.bar(x + (idx*width), data['Amount'], width, label=year)\n",
    "\n",
    "    for rect, label in zip(rects, data.index.values):\n",
    "        height = rect.get_height()\n",
    "        ax.text(\n",
    "            rect.get_x() + rect.get_width() / 2, height + 5, label[1].replace(', India', ''), ha=\"center\", va=\"bottom\"\n",
    "        )\n",
    "\n",
    "# Add some text for labels, title and custom x-axis tick labels, etc.\n",
    "ax.set_ylabel('Amount')\n",
    "ax.set_title('Amount by City and Year')\n",
    "ax.set_xticks(x, labels)\n",
    "ax.legend()\n",
    "\n",
    "fig.tight_layout()\n",
    "\n",
    "plt.show()"
   ]
  },
  {
   "cell_type": "markdown",
   "metadata": {},
   "source": [
    "## Report 2: Gender Expenses Analysis\n",
    "This section explores the expenses made by gender. The Quarter is calculated for each entry for easier grouping of the data."
   ]
  },
  {
   "cell_type": "code",
   "execution_count": 20,
   "metadata": {},
   "outputs": [
    {
     "data": {
      "text/plain": [
       "0        Quarter-4\n",
       "1        Quarter-3\n",
       "2        Quarter-3\n",
       "3        Quarter-2\n",
       "4        Quarter-2\n",
       "           ...    \n",
       "26047    Quarter-2\n",
       "26048    Quarter-3\n",
       "26049    Quarter-1\n",
       "26050    Quarter-3\n",
       "26051    Quarter-4\n",
       "Name: Quarter, Length: 26052, dtype: object"
      ]
     },
     "execution_count": 20,
     "metadata": {},
     "output_type": "execute_result"
    }
   ],
   "source": [
    "def map_quarter(d):\n",
    "    mint = int(pd.to_datetime(d).strftime('%m'))\n",
    "    q = 1\n",
    "    if mint > 3 and mint <= 6:\n",
    "        q = 2\n",
    "    elif mint > 6 and mint <= 9:\n",
    "        q = 3\n",
    "    elif mint > 9 and mint <= 12:\n",
    "        q = 4\n",
    "\n",
    "    return f\"Quarter-{q}\"\n",
    "\n",
    "bank_data['Quarter'] = bank_data['Date'].apply(map_quarter)\n",
    "bank_data['Quarter']"
   ]
  },
  {
   "cell_type": "code",
   "execution_count": 21,
   "metadata": {},
   "outputs": [
    {
     "data": {
      "text/html": [
       "<div>\n",
       "<style scoped>\n",
       "    .dataframe tbody tr th:only-of-type {\n",
       "        vertical-align: middle;\n",
       "    }\n",
       "\n",
       "    .dataframe tbody tr th {\n",
       "        vertical-align: top;\n",
       "    }\n",
       "\n",
       "    .dataframe thead th {\n",
       "        text-align: right;\n",
       "    }\n",
       "</style>\n",
       "<table border=\"1\" class=\"dataframe\">\n",
       "  <thead>\n",
       "    <tr style=\"text-align: right;\">\n",
       "      <th></th>\n",
       "      <th>Quarter</th>\n",
       "      <th>Quarter-1</th>\n",
       "      <th>Quarter-2</th>\n",
       "      <th>Quarter-3</th>\n",
       "      <th>Quarter-4</th>\n",
       "    </tr>\n",
       "    <tr>\n",
       "      <th>Year</th>\n",
       "      <th>Gender</th>\n",
       "      <th></th>\n",
       "      <th></th>\n",
       "      <th></th>\n",
       "      <th></th>\n",
       "    </tr>\n",
       "  </thead>\n",
       "  <tbody>\n",
       "    <tr>\n",
       "      <th rowspan=\"2\" valign=\"top\">2013</th>\n",
       "      <th>F</th>\n",
       "      <td>0.0</td>\n",
       "      <td>0.0</td>\n",
       "      <td>0.0</td>\n",
       "      <td>333421908.0</td>\n",
       "    </tr>\n",
       "    <tr>\n",
       "      <th>M</th>\n",
       "      <td>0.0</td>\n",
       "      <td>0.0</td>\n",
       "      <td>0.0</td>\n",
       "      <td>280221976.0</td>\n",
       "    </tr>\n",
       "    <tr>\n",
       "      <th rowspan=\"2\" valign=\"top\">2014</th>\n",
       "      <th>F</th>\n",
       "      <td>318768288.0</td>\n",
       "      <td>331421060.0</td>\n",
       "      <td>335382914.0</td>\n",
       "      <td>334689993.0</td>\n",
       "    </tr>\n",
       "    <tr>\n",
       "      <th>M</th>\n",
       "      <td>281336181.0</td>\n",
       "      <td>269947023.0</td>\n",
       "      <td>290613061.0</td>\n",
       "      <td>292555513.0</td>\n",
       "    </tr>\n",
       "    <tr>\n",
       "      <th rowspan=\"2\" valign=\"top\">2015</th>\n",
       "      <th>F</th>\n",
       "      <td>344993188.0</td>\n",
       "      <td>206633679.0</td>\n",
       "      <td>0.0</td>\n",
       "      <td>0.0</td>\n",
       "    </tr>\n",
       "    <tr>\n",
       "      <th>M</th>\n",
       "      <td>279678969.0</td>\n",
       "      <td>175169620.0</td>\n",
       "      <td>0.0</td>\n",
       "      <td>0.0</td>\n",
       "    </tr>\n",
       "  </tbody>\n",
       "</table>\n",
       "</div>"
      ],
      "text/plain": [
       "Quarter        Quarter-1    Quarter-2    Quarter-3    Quarter-4\n",
       "Year Gender                                                    \n",
       "2013 F               0.0          0.0          0.0  333421908.0\n",
       "     M               0.0          0.0          0.0  280221976.0\n",
       "2014 F       318768288.0  331421060.0  335382914.0  334689993.0\n",
       "     M       281336181.0  269947023.0  290613061.0  292555513.0\n",
       "2015 F       344993188.0  206633679.0          0.0          0.0\n",
       "     M       279678969.0  175169620.0          0.0          0.0"
      ]
     },
     "execution_count": 21,
     "metadata": {},
     "output_type": "execute_result"
    }
   ],
   "source": [
    "pivot_all = bank_data.pivot_table(values='Amount', index=['Year', 'Gender'], columns=['Quarter'], aggfunc={'Amount': np.sum}).fillna(0)\n",
    "\n",
    "pivot_all"
   ]
  },
  {
   "cell_type": "code",
   "execution_count": 28,
   "metadata": {},
   "outputs": [
    {
     "name": "stderr",
     "output_type": "stream",
     "text": [
      "/var/folders/4w/blrtyzr55j71grkzdkk3gxvc0000gq/T/ipykernel_53063/182562063.py:14: UserWarning: Boolean Series key will be reindexed to match DataFrame index.\n",
      "  fem_filtered = year_filtered[pivot_reset['Gender'] == 'F']\n",
      "/var/folders/4w/blrtyzr55j71grkzdkk3gxvc0000gq/T/ipykernel_53063/182562063.py:15: UserWarning: Boolean Series key will be reindexed to match DataFrame index.\n",
      "  male_filtered = year_filtered[pivot_reset['Gender'] == 'M']\n"
     ]
    },
    {
     "data": {
      "image/png": "[encoded data removed]",
      "text/plain": [
       "<Figure size 432x288 with 1 Axes>"
      ]
     },
     "metadata": {
      "needs_background": "light"
     },
     "output_type": "display_data"
    }
   ],
   "source": [
    "N = 4\n",
    "labels = [f\"Quarter-{i}\" for i in range(1, N+1)]\n",
    "\n",
    "x = np.arange(N)\n",
    "width = 0.20\n",
    "\n",
    "fig, ax = plt.subplots()\n",
    "\n",
    "pivot_reset = pivot_all.reset_index()\n",
    "\n",
    "for idx, year in enumerate(sorted(bank_data['Year'].unique()), start=-1):\n",
    "\n",
    "    year_filtered = pivot_reset[pivot_reset['Year'] == year]\n",
    "    fem_filtered = year_filtered[pivot_reset['Gender'] == 'F']\n",
    "    male_filtered = year_filtered[pivot_reset['Gender'] == 'M']\n",
    "\n",
    "    f_values = fem_filtered.iloc[:, 2:].values[0]\n",
    "    m_values = male_filtered.iloc[:, 2:].values[0]\n",
    "\n",
    "    rectsM = ax.bar(x + (idx*width), m_values, width, label='M', color='cornflowerblue', edgecolor='gray')\n",
    "    rectsF = ax.bar(x + (idx*width), f_values, width, bottom=m_values, label='F', color='pink', edgecolor='gray')\n",
    "    \n",
    "\n",
    "    for rect, val in zip(rectsF, m_values):\n",
    "        if val == 0:\n",
    "            continue\n",
    "\n",
    "        height = rect.get_height()\n",
    "        ax.text(\n",
    "            rect.get_x() + rect.get_width() / 2, val + height + 5, year, ha=\"center\", va=\"bottom\"\n",
    "        )\n",
    "\n",
    "ax.set_ylabel('Amount')\n",
    "ax.set_title('Amount by Gender per Quarter')\n",
    "ax.set_xticks(x, labels)\n",
    "\n",
    "# De duplicating labels\n",
    "handles, labels = plt.gca().get_legend_handles_labels()\n",
    "by_label = dict(zip(labels, handles))\n",
    "plt.legend(by_label.values(), by_label.keys())\n",
    "\n",
    "fig.tight_layout()\n",
    "\n",
    "plt.show()"
   ]
  },
  {
   "cell_type": "markdown",
   "metadata": {},
   "source": [
    "### Report 3: Top 3 Expense Type Analysis\n",
    "A short analysis for the expenses types is performed to identify which unique values there are and how the observations are distributed across them."
   ]
  },
  {
   "cell_type": "code",
   "execution_count": 29,
   "metadata": {},
   "outputs": [
    {
     "data": {
      "text/html": [
       "<div>\n",
       "<style scoped>\n",
       "    .dataframe tbody tr th:only-of-type {\n",
       "        vertical-align: middle;\n",
       "    }\n",
       "\n",
       "    .dataframe tbody tr th {\n",
       "        vertical-align: top;\n",
       "    }\n",
       "\n",
       "    .dataframe thead th {\n",
       "        text-align: right;\n",
       "    }\n",
       "</style>\n",
       "<table border=\"1\" class=\"dataframe\">\n",
       "  <thead>\n",
       "    <tr style=\"text-align: right;\">\n",
       "      <th>Exp Type</th>\n",
       "      <th>Bills</th>\n",
       "      <th>Food</th>\n",
       "      <th>Fuel</th>\n",
       "    </tr>\n",
       "    <tr>\n",
       "      <th>Year</th>\n",
       "      <th></th>\n",
       "      <th></th>\n",
       "      <th></th>\n",
       "    </tr>\n",
       "  </thead>\n",
       "  <tbody>\n",
       "    <tr>\n",
       "      <th>2013</th>\n",
       "      <td>136165014</td>\n",
       "      <td>123284967</td>\n",
       "      <td>113938738</td>\n",
       "    </tr>\n",
       "  </tbody>\n",
       "</table>\n",
       "</div>"
      ],
      "text/plain": [
       "Exp Type      Bills       Food       Fuel\n",
       "Year                                     \n",
       "2013      136165014  123284967  113938738"
      ]
     },
     "metadata": {},
     "output_type": "display_data"
    },
    {
     "data": {
      "text/html": [
       "<div>\n",
       "<style scoped>\n",
       "    .dataframe tbody tr th:only-of-type {\n",
       "        vertical-align: middle;\n",
       "    }\n",
       "\n",
       "    .dataframe tbody tr th {\n",
       "        vertical-align: top;\n",
       "    }\n",
       "\n",
       "    .dataframe thead th {\n",
       "        text-align: right;\n",
       "    }\n",
       "</style>\n",
       "<table border=\"1\" class=\"dataframe\">\n",
       "  <thead>\n",
       "    <tr style=\"text-align: right;\">\n",
       "      <th>Exp Type</th>\n",
       "      <th>Bills</th>\n",
       "      <th>Food</th>\n",
       "      <th>Fuel</th>\n",
       "    </tr>\n",
       "    <tr>\n",
       "      <th>Year</th>\n",
       "      <th></th>\n",
       "      <th></th>\n",
       "      <th></th>\n",
       "    </tr>\n",
       "  </thead>\n",
       "  <tbody>\n",
       "    <tr>\n",
       "      <th>2014</th>\n",
       "      <td>543741413</td>\n",
       "      <td>491383057</td>\n",
       "      <td>481697184</td>\n",
       "    </tr>\n",
       "  </tbody>\n",
       "</table>\n",
       "</div>"
      ],
      "text/plain": [
       "Exp Type      Bills       Food       Fuel\n",
       "Year                                     \n",
       "2014      543741413  491383057  481697184"
      ]
     },
     "metadata": {},
     "output_type": "display_data"
    },
    {
     "data": {
      "text/html": [
       "<div>\n",
       "<style scoped>\n",
       "    .dataframe tbody tr th:only-of-type {\n",
       "        vertical-align: middle;\n",
       "    }\n",
       "\n",
       "    .dataframe tbody tr th {\n",
       "        vertical-align: top;\n",
       "    }\n",
       "\n",
       "    .dataframe thead th {\n",
       "        text-align: right;\n",
       "    }\n",
       "</style>\n",
       "<table border=\"1\" class=\"dataframe\">\n",
       "  <thead>\n",
       "    <tr style=\"text-align: right;\">\n",
       "      <th>Exp Type</th>\n",
       "      <th>Bills</th>\n",
       "      <th>Food</th>\n",
       "      <th>Fuel</th>\n",
       "    </tr>\n",
       "    <tr>\n",
       "      <th>Year</th>\n",
       "      <th></th>\n",
       "      <th></th>\n",
       "      <th></th>\n",
       "    </tr>\n",
       "  </thead>\n",
       "  <tbody>\n",
       "    <tr>\n",
       "      <th>2015</th>\n",
       "      <td>227166046</td>\n",
       "      <td>210055985</td>\n",
       "      <td>193499899</td>\n",
       "    </tr>\n",
       "  </tbody>\n",
       "</table>\n",
       "</div>"
      ],
      "text/plain": [
       "Exp Type      Bills       Food       Fuel\n",
       "Year                                     \n",
       "2015      227166046  210055985  193499899"
      ]
     },
     "metadata": {},
     "output_type": "display_data"
    },
    {
     "data": {
      "image/png": "[encoded data removed]",
      "text/plain": [
       "<Figure size 432x288 with 1 Axes>"
      ]
     },
     "metadata": {
      "needs_background": "light"
     },
     "output_type": "display_data"
    }
   ],
   "source": [
    "N = 3\n",
    "x = np.arange(N)\n",
    "width = 0.20\n",
    "\n",
    "labels = [f\"Expense-Type{i}\" for i in range(1, N+1)]\n",
    "fig, ax = plt.subplots()\n",
    "\n",
    "for idx, year in enumerate(sorted(bank_data['Year'].unique()), start=-1):\n",
    "    data = bank_data[bank_data['Year'] == year].groupby(by=['Year', 'Exp Type']).agg({'Amount': 'sum'}).sort_values(by='Amount', ascending=False).head(N)\n",
    "\n",
    "    org_columns = list(map(lambda c: c[1], data.index.values))\n",
    "    display(data.pivot_table('Amount', ['Year'], 'Exp Type')[org_columns])\n",
    "\n",
    "    rects = ax.bar(x + (idx*width), data['Amount'], width, label=year)\n",
    "\n",
    "    for rect, label in zip(rects, data.index.values):\n",
    "        height = rect.get_height()\n",
    "        ax.text(\n",
    "            rect.get_x() + rect.get_width() / 2, height + 5, label[1], ha=\"center\", va=\"bottom\"\n",
    "        )\n",
    "\n",
    "# Add some text for labels, title and custom x-axis tick labels, etc.\n",
    "ax.set_ylabel('Amount')\n",
    "ax.set_title('Amount by Expense Type and Year')\n",
    "ax.set_xticks(x, labels)\n",
    "ax.legend()\n",
    "\n",
    "fig.tight_layout()\n",
    "\n",
    "plt.show()"
   ]
  },
  {
   "cell_type": "markdown",
   "metadata": {},
   "source": [
    "## Fraud detection Report\n",
    "This section focuses on detecting possible fraud transactions for the data provided."
   ]
  },
  {
   "cell_type": "code",
   "execution_count": 30,
   "metadata": {},
   "outputs": [
    {
     "data": {
      "text/html": [
       "<div>\n",
       "<style scoped>\n",
       "    .dataframe tbody tr th:only-of-type {\n",
       "        vertical-align: middle;\n",
       "    }\n",
       "\n",
       "    .dataframe tbody tr th {\n",
       "        vertical-align: top;\n",
       "    }\n",
       "\n",
       "    .dataframe thead th {\n",
       "        text-align: right;\n",
       "    }\n",
       "</style>\n",
       "<table border=\"1\" class=\"dataframe\">\n",
       "  <thead>\n",
       "    <tr style=\"text-align: right;\">\n",
       "      <th></th>\n",
       "      <th>City</th>\n",
       "      <th>Card Type</th>\n",
       "      <th>Exp Type</th>\n",
       "      <th>Gender</th>\n",
       "      <th>count_freqs</th>\n",
       "    </tr>\n",
       "  </thead>\n",
       "  <tbody>\n",
       "    <tr>\n",
       "      <th>0</th>\n",
       "      <td>Achalpur, India</td>\n",
       "      <td>Gold</td>\n",
       "      <td>Bills</td>\n",
       "      <td>F</td>\n",
       "      <td>1</td>\n",
       "    </tr>\n",
       "    <tr>\n",
       "      <th>1</th>\n",
       "      <td>Achalpur, India</td>\n",
       "      <td>Gold</td>\n",
       "      <td>Bills</td>\n",
       "      <td>M</td>\n",
       "      <td>1</td>\n",
       "    </tr>\n",
       "    <tr>\n",
       "      <th>2</th>\n",
       "      <td>Achalpur, India</td>\n",
       "      <td>Gold</td>\n",
       "      <td>Entertainment</td>\n",
       "      <td>F</td>\n",
       "      <td>1</td>\n",
       "    </tr>\n",
       "    <tr>\n",
       "      <th>3</th>\n",
       "      <td>Achalpur, India</td>\n",
       "      <td>Platinum</td>\n",
       "      <td>Grocery</td>\n",
       "      <td>F</td>\n",
       "      <td>1</td>\n",
       "    </tr>\n",
       "    <tr>\n",
       "      <th>4</th>\n",
       "      <td>Achalpur, India</td>\n",
       "      <td>Signature</td>\n",
       "      <td>Fuel</td>\n",
       "      <td>M</td>\n",
       "      <td>1</td>\n",
       "    </tr>\n",
       "    <tr>\n",
       "      <th>...</th>\n",
       "      <td>...</td>\n",
       "      <td>...</td>\n",
       "      <td>...</td>\n",
       "      <td>...</td>\n",
       "      <td>...</td>\n",
       "    </tr>\n",
       "    <tr>\n",
       "      <th>5097</th>\n",
       "      <td>Sultanganj, India</td>\n",
       "      <td>Signature</td>\n",
       "      <td>Bills</td>\n",
       "      <td>F</td>\n",
       "      <td>1</td>\n",
       "    </tr>\n",
       "    <tr>\n",
       "      <th>5098</th>\n",
       "      <td>Sultanganj, India</td>\n",
       "      <td>Signature</td>\n",
       "      <td>Bills</td>\n",
       "      <td>M</td>\n",
       "      <td>1</td>\n",
       "    </tr>\n",
       "    <tr>\n",
       "      <th>5099</th>\n",
       "      <td>Sultanganj, India</td>\n",
       "      <td>Signature</td>\n",
       "      <td>Fuel</td>\n",
       "      <td>F</td>\n",
       "      <td>1</td>\n",
       "    </tr>\n",
       "    <tr>\n",
       "      <th>5100</th>\n",
       "      <td>Sultanganj, India</td>\n",
       "      <td>Silver</td>\n",
       "      <td>Entertainment</td>\n",
       "      <td>F</td>\n",
       "      <td>1</td>\n",
       "    </tr>\n",
       "    <tr>\n",
       "      <th>5101</th>\n",
       "      <td>Sultanpur, India</td>\n",
       "      <td>Gold</td>\n",
       "      <td>Entertainment</td>\n",
       "      <td>M</td>\n",
       "      <td>1</td>\n",
       "    </tr>\n",
       "  </tbody>\n",
       "</table>\n",
       "<p>5102 rows × 5 columns</p>\n",
       "</div>"
      ],
      "text/plain": [
       "                   City  Card Type       Exp Type Gender  count_freqs\n",
       "0       Achalpur, India       Gold          Bills      F            1\n",
       "1       Achalpur, India       Gold          Bills      M            1\n",
       "2       Achalpur, India       Gold  Entertainment      F            1\n",
       "3       Achalpur, India   Platinum        Grocery      F            1\n",
       "4       Achalpur, India  Signature           Fuel      M            1\n",
       "...                 ...        ...            ...    ...          ...\n",
       "5097  Sultanganj, India  Signature          Bills      F            1\n",
       "5098  Sultanganj, India  Signature          Bills      M            1\n",
       "5099  Sultanganj, India  Signature           Fuel      F            1\n",
       "5100  Sultanganj, India     Silver  Entertainment      F            1\n",
       "5101   Sultanpur, India       Gold  Entertainment      M            1\n",
       "\n",
       "[5102 rows x 5 columns]"
      ]
     },
     "metadata": {},
     "output_type": "display_data"
    },
    {
     "data": {
      "text/html": [
       "<div>\n",
       "<style scoped>\n",
       "    .dataframe tbody tr th:only-of-type {\n",
       "        vertical-align: middle;\n",
       "    }\n",
       "\n",
       "    .dataframe tbody tr th {\n",
       "        vertical-align: top;\n",
       "    }\n",
       "\n",
       "    .dataframe thead th {\n",
       "        text-align: right;\n",
       "    }\n",
       "</style>\n",
       "<table border=\"1\" class=\"dataframe\">\n",
       "  <thead>\n",
       "    <tr style=\"text-align: right;\">\n",
       "      <th></th>\n",
       "      <th>City</th>\n",
       "      <th>Card Type</th>\n",
       "      <th>Exp Type</th>\n",
       "      <th>Gender</th>\n",
       "      <th>count_freqs</th>\n",
       "    </tr>\n",
       "  </thead>\n",
       "  <tbody>\n",
       "    <tr>\n",
       "      <th>5102</th>\n",
       "      <td>Sultanpur, India</td>\n",
       "      <td>Signature</td>\n",
       "      <td>Entertainment</td>\n",
       "      <td>F</td>\n",
       "      <td>2</td>\n",
       "    </tr>\n",
       "    <tr>\n",
       "      <th>5103</th>\n",
       "      <td>Sultanpur, India</td>\n",
       "      <td>Signature</td>\n",
       "      <td>Entertainment</td>\n",
       "      <td>M</td>\n",
       "      <td>2</td>\n",
       "    </tr>\n",
       "    <tr>\n",
       "      <th>5104</th>\n",
       "      <td>Sultanpur, India</td>\n",
       "      <td>Signature</td>\n",
       "      <td>Grocery</td>\n",
       "      <td>M</td>\n",
       "      <td>2</td>\n",
       "    </tr>\n",
       "    <tr>\n",
       "      <th>5105</th>\n",
       "      <td>Sumerpur, India</td>\n",
       "      <td>Platinum</td>\n",
       "      <td>Fuel</td>\n",
       "      <td>F</td>\n",
       "      <td>2</td>\n",
       "    </tr>\n",
       "    <tr>\n",
       "      <th>5106</th>\n",
       "      <td>Sumerpur, India</td>\n",
       "      <td>Platinum</td>\n",
       "      <td>Fuel</td>\n",
       "      <td>M</td>\n",
       "      <td>2</td>\n",
       "    </tr>\n",
       "    <tr>\n",
       "      <th>...</th>\n",
       "      <td>...</td>\n",
       "      <td>...</td>\n",
       "      <td>...</td>\n",
       "      <td>...</td>\n",
       "      <td>...</td>\n",
       "    </tr>\n",
       "    <tr>\n",
       "      <th>6040</th>\n",
       "      <td>Zirakpur, India</td>\n",
       "      <td>Platinum</td>\n",
       "      <td>Food</td>\n",
       "      <td>M</td>\n",
       "      <td>128</td>\n",
       "    </tr>\n",
       "    <tr>\n",
       "      <th>6041</th>\n",
       "      <td>Zirakpur, India</td>\n",
       "      <td>Platinum</td>\n",
       "      <td>Fuel</td>\n",
       "      <td>F</td>\n",
       "      <td>132</td>\n",
       "    </tr>\n",
       "    <tr>\n",
       "      <th>6042</th>\n",
       "      <td>Zunheboto, India</td>\n",
       "      <td>Signature</td>\n",
       "      <td>Bills</td>\n",
       "      <td>M</td>\n",
       "      <td>138</td>\n",
       "    </tr>\n",
       "    <tr>\n",
       "      <th>6043</th>\n",
       "      <td>Zunheboto, India</td>\n",
       "      <td>Silver</td>\n",
       "      <td>Entertainment</td>\n",
       "      <td>F</td>\n",
       "      <td>138</td>\n",
       "    </tr>\n",
       "    <tr>\n",
       "      <th>6044</th>\n",
       "      <td>Zunheboto, India</td>\n",
       "      <td>Silver</td>\n",
       "      <td>Grocery</td>\n",
       "      <td>M</td>\n",
       "      <td>163</td>\n",
       "    </tr>\n",
       "  </tbody>\n",
       "</table>\n",
       "<p>943 rows × 5 columns</p>\n",
       "</div>"
      ],
      "text/plain": [
       "                  City  Card Type       Exp Type Gender  count_freqs\n",
       "5102  Sultanpur, India  Signature  Entertainment      F            2\n",
       "5103  Sultanpur, India  Signature  Entertainment      M            2\n",
       "5104  Sultanpur, India  Signature        Grocery      M            2\n",
       "5105   Sumerpur, India   Platinum           Fuel      F            2\n",
       "5106   Sumerpur, India   Platinum           Fuel      M            2\n",
       "...                ...        ...            ...    ...          ...\n",
       "6040   Zirakpur, India   Platinum           Food      M          128\n",
       "6041   Zirakpur, India   Platinum           Fuel      F          132\n",
       "6042  Zunheboto, India  Signature          Bills      M          138\n",
       "6043  Zunheboto, India     Silver  Entertainment      F          138\n",
       "6044  Zunheboto, India     Silver        Grocery      M          163\n",
       "\n",
       "[943 rows x 5 columns]"
      ]
     },
     "metadata": {},
     "output_type": "display_data"
    }
   ],
   "source": [
    "bank_slice = bank_data[['City', 'Card Type', 'Exp Type', 'Gender']]\n",
    "bank_counts = bank_slice.value_counts(ascending=True)\n",
    "count_freqs = dict(bank_counts)\n",
    "bank_grouped = bank_slice.groupby(['City', 'Card Type', 'Exp Type', 'Gender']).count().reset_index()\n",
    "\n",
    "bank_grouped.loc[:, 'count_freqs'] = count_freqs.keys()\n",
    "bank_grouped['count_freqs'] = bank_grouped['count_freqs'].map(count_freqs)\n",
    "\n",
    "unique_transactions = bank_grouped[bank_grouped.count_freqs == 1]\n",
    "common_transactions = bank_grouped[bank_grouped.count_freqs > 1]\n",
    "\n",
    "display(unique_transactions)\n",
    "display(common_transactions)"
   ]
  },
  {
   "cell_type": "markdown",
   "metadata": {},
   "source": [
    "From the above summaries, we can see that there are 5,102 unique types of transactions, that were never seen before. While there are 943 types of transactions that are the most common ways to perform expenses."
   ]
  },
  {
   "cell_type": "code",
   "execution_count": 35,
   "metadata": {},
   "outputs": [
    {
     "name": "stdout",
     "output_type": "stream",
     "text": [
      "Requirement already satisfied: sklearn in /Users/eduardo.gutierrez/Envs/assignment3/lib/python3.8/site-packages (0.0)\n",
      "Requirement already satisfied: scikit-learn in /Users/eduardo.gutierrez/Envs/assignment3/lib/python3.8/site-packages (from sklearn) (1.0.2)\n",
      "Requirement already satisfied: joblib>=0.11 in /Users/eduardo.gutierrez/Envs/assignment3/lib/python3.8/site-packages (from scikit-learn->sklearn) (1.1.0)\n",
      "Requirement already satisfied: threadpoolctl>=2.0.0 in /Users/eduardo.gutierrez/Envs/assignment3/lib/python3.8/site-packages (from scikit-learn->sklearn) (3.1.0)\n",
      "Requirement already satisfied: scipy>=1.1.0 in /Users/eduardo.gutierrez/Envs/assignment3/lib/python3.8/site-packages (from scikit-learn->sklearn) (1.8.0)\n",
      "Requirement already satisfied: numpy>=1.14.6 in /Users/eduardo.gutierrez/Envs/assignment3/lib/python3.8/site-packages (from scikit-learn->sklearn) (1.22.3)\n",
      "\u001b[33mWARNING: You are using pip version 21.3.1; however, version 22.0.4 is available.\n",
      "You should consider upgrading via the '/Users/eduardo.gutierrez/Envs/assignment3/bin/python -m pip install --upgrade pip' command.\u001b[0m\n",
      "Requirement already satisfied: tqdm in /Users/eduardo.gutierrez/Envs/assignment3/lib/python3.8/site-packages (4.64.0)\n",
      "\u001b[33mWARNING: You are using pip version 21.3.1; however, version 22.0.4 is available.\n",
      "You should consider upgrading via the '/Users/eduardo.gutierrez/Envs/assignment3/bin/python -m pip install --upgrade pip' command.\u001b[0m\n",
      "Requirement already satisfied: plotly in /Users/eduardo.gutierrez/Envs/assignment3/lib/python3.8/site-packages (5.6.0)\n",
      "Requirement already satisfied: tenacity>=6.2.0 in /Users/eduardo.gutierrez/Envs/assignment3/lib/python3.8/site-packages (from plotly) (8.0.1)\n",
      "Requirement already satisfied: six in /Users/eduardo.gutierrez/Envs/assignment3/lib/python3.8/site-packages (from plotly) (1.16.0)\n",
      "\u001b[33mWARNING: You are using pip version 21.3.1; however, version 22.0.4 is available.\n",
      "You should consider upgrading via the '/Users/eduardo.gutierrez/Envs/assignment3/bin/python -m pip install --upgrade pip' command.\u001b[0m\n",
      "Requirement already satisfied: nbformat in /Users/eduardo.gutierrez/Envs/assignment3/lib/python3.8/site-packages (5.3.0)\n",
      "Requirement already satisfied: jupyter-core in /Users/eduardo.gutierrez/Envs/assignment3/lib/python3.8/site-packages (from nbformat) (4.9.2)\n",
      "Requirement already satisfied: traitlets>=4.1 in /Users/eduardo.gutierrez/Envs/assignment3/lib/python3.8/site-packages (from nbformat) (5.1.1)\n",
      "Requirement already satisfied: jsonschema>=2.6 in /Users/eduardo.gutierrez/Envs/assignment3/lib/python3.8/site-packages (from nbformat) (4.4.0)\n",
      "Requirement already satisfied: fastjsonschema in /Users/eduardo.gutierrez/Envs/assignment3/lib/python3.8/site-packages (from nbformat) (2.15.3)\n",
      "Requirement already satisfied: attrs>=17.4.0 in /Users/eduardo.gutierrez/Envs/assignment3/lib/python3.8/site-packages (from jsonschema>=2.6->nbformat) (21.4.0)\n",
      "Requirement already satisfied: importlib-resources>=1.4.0 in /Users/eduardo.gutierrez/Envs/assignment3/lib/python3.8/site-packages (from jsonschema>=2.6->nbformat) (5.6.0)\n",
      "Requirement already satisfied: pyrsistent!=0.17.0,!=0.17.1,!=0.17.2,>=0.14.0 in /Users/eduardo.gutierrez/Envs/assignment3/lib/python3.8/site-packages (from jsonschema>=2.6->nbformat) (0.18.1)\n",
      "Requirement already satisfied: zipp>=3.1.0 in /Users/eduardo.gutierrez/Envs/assignment3/lib/python3.8/site-packages (from importlib-resources>=1.4.0->jsonschema>=2.6->nbformat) (3.8.0)\n",
      "\u001b[33mWARNING: You are using pip version 21.3.1; however, version 22.0.4 is available.\n",
      "You should consider upgrading via the '/Users/eduardo.gutierrez/Envs/assignment3/bin/python -m pip install --upgrade pip' command.\u001b[0m\n",
      "Collecting umap-learn\n",
      "  Downloading umap-learn-0.5.2.tar.gz (86 kB)\n",
      "     |████████████████████████████████| 86 kB 3.4 MB/s             \n",
      "\u001b[?25h  Preparing metadata (setup.py) ... \u001b[?25ldone\n",
      "\u001b[?25hRequirement already satisfied: numpy>=1.17 in /Users/eduardo.gutierrez/Envs/assignment3/lib/python3.8/site-packages (from umap-learn) (1.22.3)\n",
      "Requirement already satisfied: scikit-learn>=0.22 in /Users/eduardo.gutierrez/Envs/assignment3/lib/python3.8/site-packages (from umap-learn) (1.0.2)\n",
      "Requirement already satisfied: scipy>=1.0 in /Users/eduardo.gutierrez/Envs/assignment3/lib/python3.8/site-packages (from umap-learn) (1.8.0)\n",
      "Collecting numba>=0.49\n",
      "  Downloading numba-0.55.1-cp38-cp38-macosx_10_14_x86_64.whl (2.3 MB)\n",
      "     |████████████████████████████████| 2.3 MB 4.4 MB/s            \n",
      "\u001b[?25hCollecting pynndescent>=0.5\n",
      "  Downloading pynndescent-0.5.6.tar.gz (1.1 MB)\n",
      "     |████████████████████████████████| 1.1 MB 13.7 MB/s            \n",
      "\u001b[?25h  Preparing metadata (setup.py) ... \u001b[?25ldone\n",
      "\u001b[?25hRequirement already satisfied: tqdm in /Users/eduardo.gutierrez/Envs/assignment3/lib/python3.8/site-packages (from umap-learn) (4.64.0)\n",
      "Collecting numpy>=1.17\n",
      "  Downloading numpy-1.21.5-cp38-cp38-macosx_10_9_x86_64.whl (16.9 MB)\n",
      "     |████████████████████████████████| 16.9 MB 6.6 MB/s            \n",
      "\u001b[?25hRequirement already satisfied: setuptools in /Users/eduardo.gutierrez/Envs/assignment3/lib/python3.8/site-packages (from numba>=0.49->umap-learn) (60.9.3)\n",
      "Collecting llvmlite<0.39,>=0.38.0rc1\n",
      "  Downloading llvmlite-0.38.0-cp38-cp38-macosx_10_9_x86_64.whl (25.5 MB)\n",
      "     |████████████████████████████████| 25.5 MB 11.8 MB/s            \n",
      "\u001b[?25hRequirement already satisfied: joblib>=0.11 in /Users/eduardo.gutierrez/Envs/assignment3/lib/python3.8/site-packages (from pynndescent>=0.5->umap-learn) (1.1.0)\n",
      "Requirement already satisfied: threadpoolctl>=2.0.0 in /Users/eduardo.gutierrez/Envs/assignment3/lib/python3.8/site-packages (from scikit-learn>=0.22->umap-learn) (3.1.0)\n",
      "Building wheels for collected packages: umap-learn, pynndescent\n",
      "  Building wheel for umap-learn (setup.py) ... \u001b[?25ldone\n",
      "\u001b[?25h  Created wheel for umap-learn: filename=umap_learn-0.5.2-py3-none-any.whl size=82708 sha256=2915896519c2113bf5a8f06bac9f1a573ea0a6541d0f68c58b9dcec9a1f7e537\n",
      "  Stored in directory: /Users/eduardo.gutierrez/Library/Caches/pip/wheels/f2/64/75/df601da9514261c8cb0830b9515d2b94b5a51f09ddeae92b9e\n",
      "  Building wheel for pynndescent (setup.py) ... \u001b[?25ldone\n",
      "\u001b[?25h  Created wheel for pynndescent: filename=pynndescent-0.5.6-py3-none-any.whl size=53943 sha256=e5863f939436710fb843f59f8d08cc02d4fcb09abfab9581be55ff858772269f\n",
      "  Stored in directory: /Users/eduardo.gutierrez/Library/Caches/pip/wheels/1d/07/6e/9ae4e883392994fd1d7c61a0377f0177e3f8e2faff6c677341\n",
      "Successfully built umap-learn pynndescent\n",
      "Installing collected packages: numpy, llvmlite, numba, pynndescent, umap-learn\n",
      "  Attempting uninstall: numpy\n",
      "    Found existing installation: numpy 1.22.3\n",
      "    Uninstalling numpy-1.22.3:\n",
      "      Successfully uninstalled numpy-1.22.3\n",
      "Successfully installed llvmlite-0.38.0 numba-0.55.1 numpy-1.21.5 pynndescent-0.5.6 umap-learn-0.5.2\n",
      "\u001b[33mWARNING: You are using pip version 21.3.1; however, version 22.0.4 is available.\n",
      "You should consider upgrading via the '/Users/eduardo.gutierrez/Envs/assignment3/bin/python -m pip install --upgrade pip' command.\u001b[0m\n"
     ]
    }
   ],
   "source": [
    "!{sys.executable} -m pip install sklearn\n",
    "!{sys.executable} -m pip install tqdm\n",
    "!{sys.executable} -m pip install plotly\n",
    "!{sys.executable} -m pip install nbformat\n",
    "!{sys.executable} -m pip install umap-learn"
   ]
  },
  {
   "cell_type": "code",
   "execution_count": 37,
   "metadata": {},
   "outputs": [
    {
     "ename": "ImportError",
     "evalue": "Numba needs NumPy 1.21 or less",
     "output_type": "error",
     "traceback": [
      "\u001b[0;31m---------------------------------------------------------------------------\u001b[0m",
      "\u001b[0;31mImportError\u001b[0m                               Traceback (most recent call last)",
      "\u001b[1;32m/Users/eduardo.gutierrez/Develop/Conestoga/Programming/prog8420-egs-solutions/bank-transactions-analysis/bank-transaction.ipynb Cell 25'\u001b[0m in \u001b[0;36m<cell line: 5>\u001b[0;34m()\u001b[0m\n\u001b[1;32m      <a href='vscode-notebook-cell:/Users/eduardo.gutierrez/Develop/Conestoga/Programming/prog8420-egs-solutions/bank-transactions-analysis/bank-transaction.ipynb#ch0000073?line=2'>3</a>\u001b[0m \u001b[39mfrom\u001b[39;00m \u001b[39mtqdm\u001b[39;00m \u001b[39mimport\u001b[39;00m tqdm\n\u001b[1;32m      <a href='vscode-notebook-cell:/Users/eduardo.gutierrez/Develop/Conestoga/Programming/prog8420-egs-solutions/bank-transactions-analysis/bank-transaction.ipynb#ch0000073?line=3'>4</a>\u001b[0m \u001b[39mimport\u001b[39;00m \u001b[39mplotly\u001b[39;00m\u001b[39m.\u001b[39;00m\u001b[39mgraph_objects\u001b[39;00m \u001b[39mas\u001b[39;00m \u001b[39mgo\u001b[39;00m\n\u001b[0;32m----> <a href='vscode-notebook-cell:/Users/eduardo.gutierrez/Develop/Conestoga/Programming/prog8420-egs-solutions/bank-transactions-analysis/bank-transaction.ipynb#ch0000073?line=4'>5</a>\u001b[0m \u001b[39mimport\u001b[39;00m \u001b[39mumap\u001b[39;00m\n",
      "File \u001b[0;32m~/Envs/assignment3/lib/python3.8/site-packages/umap/__init__.py:2\u001b[0m, in \u001b[0;36m<module>\u001b[0;34m\u001b[0m\n\u001b[1;32m      <a href='file:///Users/eduardo.gutierrez/Envs/assignment3/lib/python3.8/site-packages/umap/__init__.py?line=0'>1</a>\u001b[0m \u001b[39mfrom\u001b[39;00m \u001b[39mwarnings\u001b[39;00m \u001b[39mimport\u001b[39;00m warn, catch_warnings, simplefilter\n\u001b[0;32m----> <a href='file:///Users/eduardo.gutierrez/Envs/assignment3/lib/python3.8/site-packages/umap/__init__.py?line=1'>2</a>\u001b[0m \u001b[39mfrom\u001b[39;00m \u001b[39m.\u001b[39;00m\u001b[39mumap_\u001b[39;00m \u001b[39mimport\u001b[39;00m UMAP\n\u001b[1;32m      <a href='file:///Users/eduardo.gutierrez/Envs/assignment3/lib/python3.8/site-packages/umap/__init__.py?line=3'>4</a>\u001b[0m \u001b[39mtry\u001b[39;00m:\n\u001b[1;32m      <a href='file:///Users/eduardo.gutierrez/Envs/assignment3/lib/python3.8/site-packages/umap/__init__.py?line=4'>5</a>\u001b[0m     \u001b[39mwith\u001b[39;00m catch_warnings():\n",
      "File \u001b[0;32m~/Envs/assignment3/lib/python3.8/site-packages/umap/umap_.py:28\u001b[0m, in \u001b[0;36m<module>\u001b[0;34m\u001b[0m\n\u001b[1;32m     <a href='file:///Users/eduardo.gutierrez/Envs/assignment3/lib/python3.8/site-packages/umap/umap_.py?line=25'>26</a>\u001b[0m \u001b[39mfrom\u001b[39;00m \u001b[39mscipy\u001b[39;00m\u001b[39m.\u001b[39;00m\u001b[39msparse\u001b[39;00m \u001b[39mimport\u001b[39;00m tril \u001b[39mas\u001b[39;00m sparse_tril, triu \u001b[39mas\u001b[39;00m sparse_triu\n\u001b[1;32m     <a href='file:///Users/eduardo.gutierrez/Envs/assignment3/lib/python3.8/site-packages/umap/umap_.py?line=26'>27</a>\u001b[0m \u001b[39mimport\u001b[39;00m \u001b[39mscipy\u001b[39;00m\u001b[39m.\u001b[39;00m\u001b[39msparse\u001b[39;00m\u001b[39m.\u001b[39;00m\u001b[39mcsgraph\u001b[39;00m\n\u001b[0;32m---> <a href='file:///Users/eduardo.gutierrez/Envs/assignment3/lib/python3.8/site-packages/umap/umap_.py?line=27'>28</a>\u001b[0m \u001b[39mimport\u001b[39;00m \u001b[39mnumba\u001b[39;00m\n\u001b[1;32m     <a href='file:///Users/eduardo.gutierrez/Envs/assignment3/lib/python3.8/site-packages/umap/umap_.py?line=29'>30</a>\u001b[0m \u001b[39mimport\u001b[39;00m \u001b[39mumap\u001b[39;00m\u001b[39m.\u001b[39;00m\u001b[39mdistances\u001b[39;00m \u001b[39mas\u001b[39;00m \u001b[39mdist\u001b[39;00m\n\u001b[1;32m     <a href='file:///Users/eduardo.gutierrez/Envs/assignment3/lib/python3.8/site-packages/umap/umap_.py?line=31'>32</a>\u001b[0m \u001b[39mimport\u001b[39;00m \u001b[39mumap\u001b[39;00m\u001b[39m.\u001b[39;00m\u001b[39msparse\u001b[39;00m \u001b[39mas\u001b[39;00m \u001b[39msparse\u001b[39;00m\n",
      "File \u001b[0;32m~/Envs/assignment3/lib/python3.8/site-packages/numba/__init__.py:200\u001b[0m, in \u001b[0;36m<module>\u001b[0;34m\u001b[0m\n\u001b[1;32m    <a href='file:///Users/eduardo.gutierrez/Envs/assignment3/lib/python3.8/site-packages/numba/__init__.py?line=196'>197</a>\u001b[0m     \u001b[39mreturn\u001b[39;00m \u001b[39mFalse\u001b[39;00m\n\u001b[1;32m    <a href='file:///Users/eduardo.gutierrez/Envs/assignment3/lib/python3.8/site-packages/numba/__init__.py?line=198'>199</a>\u001b[0m _ensure_llvm()\n\u001b[0;32m--> <a href='file:///Users/eduardo.gutierrez/Envs/assignment3/lib/python3.8/site-packages/numba/__init__.py?line=199'>200</a>\u001b[0m _ensure_critical_deps()\n\u001b[1;32m    <a href='file:///Users/eduardo.gutierrez/Envs/assignment3/lib/python3.8/site-packages/numba/__init__.py?line=201'>202</a>\u001b[0m \u001b[39m# we know llvmlite is working as the above tests passed, import it now as SVML\u001b[39;00m\n\u001b[1;32m    <a href='file:///Users/eduardo.gutierrez/Envs/assignment3/lib/python3.8/site-packages/numba/__init__.py?line=202'>203</a>\u001b[0m \u001b[39m# needs to mutate runtime options (sets the `-vector-library`).\u001b[39;00m\n\u001b[1;32m    <a href='file:///Users/eduardo.gutierrez/Envs/assignment3/lib/python3.8/site-packages/numba/__init__.py?line=203'>204</a>\u001b[0m \u001b[39mimport\u001b[39;00m \u001b[39mllvmlite\u001b[39;00m\n",
      "File \u001b[0;32m~/Envs/assignment3/lib/python3.8/site-packages/numba/__init__.py:140\u001b[0m, in \u001b[0;36m_ensure_critical_deps\u001b[0;34m()\u001b[0m\n\u001b[1;32m    <a href='file:///Users/eduardo.gutierrez/Envs/assignment3/lib/python3.8/site-packages/numba/__init__.py?line=137'>138</a>\u001b[0m     \u001b[39mraise\u001b[39;00m \u001b[39mImportError\u001b[39;00m(\u001b[39m\"\u001b[39m\u001b[39mNumba needs NumPy 1.18 or greater\u001b[39m\u001b[39m\"\u001b[39m)\n\u001b[1;32m    <a href='file:///Users/eduardo.gutierrez/Envs/assignment3/lib/python3.8/site-packages/numba/__init__.py?line=138'>139</a>\u001b[0m \u001b[39melif\u001b[39;00m numpy_version \u001b[39m>\u001b[39m (\u001b[39m1\u001b[39m, \u001b[39m21\u001b[39m):\n\u001b[0;32m--> <a href='file:///Users/eduardo.gutierrez/Envs/assignment3/lib/python3.8/site-packages/numba/__init__.py?line=139'>140</a>\u001b[0m     \u001b[39mraise\u001b[39;00m \u001b[39mImportError\u001b[39;00m(\u001b[39m\"\u001b[39m\u001b[39mNumba needs NumPy 1.21 or less\u001b[39m\u001b[39m\"\u001b[39m)\n\u001b[1;32m    <a href='file:///Users/eduardo.gutierrez/Envs/assignment3/lib/python3.8/site-packages/numba/__init__.py?line=141'>142</a>\u001b[0m \u001b[39mtry\u001b[39;00m:\n\u001b[1;32m    <a href='file:///Users/eduardo.gutierrez/Envs/assignment3/lib/python3.8/site-packages/numba/__init__.py?line=142'>143</a>\u001b[0m     \u001b[39mimport\u001b[39;00m \u001b[39mscipy\u001b[39;00m\n",
      "\u001b[0;31mImportError\u001b[0m: Numba needs NumPy 1.21 or less"
     ]
    }
   ],
   "source": [
    "from sklearn.preprocessing import PowerTransformer\n",
    "from sklearn.cluster import KMeans\n",
    "from tqdm import tqdm\n",
    "import plotly.graph_objects as go\n",
    "import umap"
   ]
  },
  {
   "cell_type": "code",
   "execution_count": 33,
   "metadata": {},
   "outputs": [
    {
     "name": "stderr",
     "output_type": "stream",
     "text": [
      "/var/folders/4w/blrtyzr55j71grkzdkk3gxvc0000gq/T/ipykernel_53063/918098097.py:1: FutureWarning: In a future version of pandas all arguments of DataFrame.drop except for the argument 'labels' will be keyword-only.\n",
      "  bank_hot = bank_grouped.drop('count_freqs', 1)\n",
      "100%|██████████| 48/48 [01:30<00:00,  1.88s/it]\n"
     ]
    }
   ],
   "source": [
    "bank_hot = bank_grouped.drop('count_freqs', 1)\n",
    "bank_hot['City'] = bank_hot['City'].map(lambda c: c.replace(\", India\", \"\"))\n",
    "data = pd.get_dummies(bank_hot)\n",
    "\n",
    "#Pre-processing\n",
    "for c in data.columns:\n",
    "    pt = PowerTransformer()\n",
    "    data.loc[:, c] = pt.fit_transform(np.array(data[c]).reshape(-1, 1))\n",
    "\n",
    "#Actual Clustering\n",
    "kmeans = KMeans(n_clusters=15).fit(data)\n",
    "kmeans_labels = kmeans.labels_\n",
    "\n",
    "#OPTIONAL: Elbow plot with inertia\n",
    "#Elbow method to choose the optimal number of clusters\n",
    "sse = {}\n",
    "for k in tqdm(range(2, 50)):\n",
    "    kmeans = KMeans(n_clusters=k, max_iter=1000).fit(data)\n",
    "    sse[k] = kmeans.inertia_ # Inertia: Sum of distances of samples to their closest cluster center\n",
    "    \n"
   ]
  },
  {
   "cell_type": "code",
   "execution_count": 34,
   "metadata": {},
   "outputs": [
    {
     "data": {
      "application/vnd.plotly.v1+json": {
       "config": {
        "plotlyServerURL": "https://plot.ly"
       },
       "data": [
        {
         "type": "scatter",
         "x": [
          2,
          3,
          4,
          5,
          6,
          7,
          8,
          9,
          10,
          11,
          12,
          13,
          14,
          15,
          16,
          17,
          18,
          19,
          20,
          21,
          22,
          23,
          24,
          25,
          26,
          27,
          28,
          29,
          30,
          31,
          32,
          33,
          34,
          35,
          36,
          37,
          38,
          39,
          40,
          41,
          42,
          43,
          44,
          45,
          46,
          47,
          48,
          49
         ],
         "y": [
          6026836.687939342,
          6013886.825178539,
          6007837.172428168,
          6001802.306156868,
          5995760.745306442,
          5989682.134840427,
          5983649.098453699,
          5980773.893708505,
          5971556.411975435,
          5964720.094365874,
          5963834.765947554,
          5953445.193600123,
          5946473.501760539,
          5940566.54977132,
          5935256.908623582,
          5928409.180066512,
          5922287.907952873,
          5916416.940605293,
          5915167.378860122,
          5905063.107595499,
          5898171.977321466,
          5892148.605197431,
          5886917.434430671,
          5881056.882382228,
          5874010.288880871,
          5868278.359394391,
          5861982.752249554,
          5856716.970499426,
          5850118.904930002,
          5844932.4661709275,
          5838283.776534273,
          5832766.360756801,
          5825631.006505571,
          5820387.149567246,
          5812040.470125066,
          5808032.201129593,
          5801521.27900433,
          5796242.50081472,
          5789408.7117387885,
          5783747.6157901455,
          5776710.383191994,
          5770482.210744798,
          5766105.607230883,
          5759202.368706236,
          5753119.834090922,
          5747093.246896768,
          5741038.72195266,
          5734907.700820284
         ]
        }
       ],
       "layout": {
        "template": {
         "data": {
          "bar": [
           {
            "error_x": {
             "color": "#2a3f5f"
            },
            "error_y": {
             "color": "#2a3f5f"
            },
            "marker": {
             "line": {
              "color": "#E5ECF6",
              "width": 0.5
             },
             "pattern": {
              "fillmode": "overlay",
              "size": 10,
              "solidity": 0.2
             }
            },
            "type": "bar"
           }
          ],
          "barpolar": [
           {
            "marker": {
             "line": {
              "color": "#E5ECF6",
              "width": 0.5
             },
             "pattern": {
              "fillmode": "overlay",
              "size": 10,
              "solidity": 0.2
             }
            },
            "type": "barpolar"
           }
          ],
          "carpet": [
           {
            "aaxis": {
             "endlinecolor": "#2a3f5f",
             "gridcolor": "white",
             "linecolor": "white",
             "minorgridcolor": "white",
             "startlinecolor": "#2a3f5f"
            },
            "baxis": {
             "endlinecolor": "#2a3f5f",
             "gridcolor": "white",
             "linecolor": "white",
             "minorgridcolor": "white",
             "startlinecolor": "#2a3f5f"
            },
            "type": "carpet"
           }
          ],
          "choropleth": [
           {
            "colorbar": {
             "outlinewidth": 0,
             "ticks": ""
            },
            "type": "choropleth"
           }
          ],
          "contour": [
           {
            "colorbar": {
             "outlinewidth": 0,
             "ticks": ""
            },
            "colorscale": [
             [
              0,
              "#0d0887"
             ],
             [
              0.1111111111111111,
              "#46039f"
             ],
             [
              0.2222222222222222,
              "#7201a8"
             ],
             [
              0.3333333333333333,
              "#9c179e"
             ],
             [
              0.4444444444444444,
              "#bd3786"
             ],
             [
              0.5555555555555556,
              "#d8576b"
             ],
             [
              0.6666666666666666,
              "#ed7953"
             ],
             [
              0.7777777777777778,
              "#fb9f3a"
             ],
             [
              0.8888888888888888,
              "#fdca26"
             ],
             [
              1,
              "#f0f921"
             ]
            ],
            "type": "contour"
           }
          ],
          "contourcarpet": [
           {
            "colorbar": {
             "outlinewidth": 0,
             "ticks": ""
            },
            "type": "contourcarpet"
           }
          ],
          "heatmap": [
           {
            "colorbar": {
             "outlinewidth": 0,
             "ticks": ""
            },
            "colorscale": [
             [
              0,
              "#0d0887"
             ],
             [
              0.1111111111111111,
              "#46039f"
             ],
             [
              0.2222222222222222,
              "#7201a8"
             ],
             [
              0.3333333333333333,
              "#9c179e"
             ],
             [
              0.4444444444444444,
              "#bd3786"
             ],
             [
              0.5555555555555556,
              "#d8576b"
             ],
             [
              0.6666666666666666,
              "#ed7953"
             ],
             [
              0.7777777777777778,
              "#fb9f3a"
             ],
             [
              0.8888888888888888,
              "#fdca26"
             ],
             [
              1,
              "#f0f921"
             ]
            ],
            "type": "heatmap"
           }
          ],
          "heatmapgl": [
           {
            "colorbar": {
             "outlinewidth": 0,
             "ticks": ""
            },
            "colorscale": [
             [
              0,
              "#0d0887"
             ],
             [
              0.1111111111111111,
              "#46039f"
             ],
             [
              0.2222222222222222,
              "#7201a8"
             ],
             [
              0.3333333333333333,
              "#9c179e"
             ],
             [
              0.4444444444444444,
              "#bd3786"
             ],
             [
              0.5555555555555556,
              "#d8576b"
             ],
             [
              0.6666666666666666,
              "#ed7953"
             ],
             [
              0.7777777777777778,
              "#fb9f3a"
             ],
             [
              0.8888888888888888,
              "#fdca26"
             ],
             [
              1,
              "#f0f921"
             ]
            ],
            "type": "heatmapgl"
           }
          ],
          "histogram": [
           {
            "marker": {
             "pattern": {
              "fillmode": "overlay",
              "size": 10,
              "solidity": 0.2
             }
            },
            "type": "histogram"
           }
          ],
          "histogram2d": [
           {
            "colorbar": {
             "outlinewidth": 0,
             "ticks": ""
            },
            "colorscale": [
             [
              0,
              "#0d0887"
             ],
             [
              0.1111111111111111,
              "#46039f"
             ],
             [
              0.2222222222222222,
              "#7201a8"
             ],
             [
              0.3333333333333333,
              "#9c179e"
             ],
             [
              0.4444444444444444,
              "#bd3786"
             ],
             [
              0.5555555555555556,
              "#d8576b"
             ],
             [
              0.6666666666666666,
              "#ed7953"
             ],
             [
              0.7777777777777778,
              "#fb9f3a"
             ],
             [
              0.8888888888888888,
              "#fdca26"
             ],
             [
              1,
              "#f0f921"
             ]
            ],
            "type": "histogram2d"
           }
          ],
          "histogram2dcontour": [
           {
            "colorbar": {
             "outlinewidth": 0,
             "ticks": ""
            },
            "colorscale": [
             [
              0,
              "#0d0887"
             ],
             [
              0.1111111111111111,
              "#46039f"
             ],
             [
              0.2222222222222222,
              "#7201a8"
             ],
             [
              0.3333333333333333,
              "#9c179e"
             ],
             [
              0.4444444444444444,
              "#bd3786"
             ],
             [
              0.5555555555555556,
              "#d8576b"
             ],
             [
              0.6666666666666666,
              "#ed7953"
             ],
             [
              0.7777777777777778,
              "#fb9f3a"
             ],
             [
              0.8888888888888888,
              "#fdca26"
             ],
             [
              1,
              "#f0f921"
             ]
            ],
            "type": "histogram2dcontour"
           }
          ],
          "mesh3d": [
           {
            "colorbar": {
             "outlinewidth": 0,
             "ticks": ""
            },
            "type": "mesh3d"
           }
          ],
          "parcoords": [
           {
            "line": {
             "colorbar": {
              "outlinewidth": 0,
              "ticks": ""
             }
            },
            "type": "parcoords"
           }
          ],
          "pie": [
           {
            "automargin": true,
            "type": "pie"
           }
          ],
          "scatter": [
           {
            "marker": {
             "colorbar": {
              "outlinewidth": 0,
              "ticks": ""
             }
            },
            "type": "scatter"
           }
          ],
          "scatter3d": [
           {
            "line": {
             "colorbar": {
              "outlinewidth": 0,
              "ticks": ""
             }
            },
            "marker": {
             "colorbar": {
              "outlinewidth": 0,
              "ticks": ""
             }
            },
            "type": "scatter3d"
           }
          ],
          "scattercarpet": [
           {
            "marker": {
             "colorbar": {
              "outlinewidth": 0,
              "ticks": ""
             }
            },
            "type": "scattercarpet"
           }
          ],
          "scattergeo": [
           {
            "marker": {
             "colorbar": {
              "outlinewidth": 0,
              "ticks": ""
             }
            },
            "type": "scattergeo"
           }
          ],
          "scattergl": [
           {
            "marker": {
             "colorbar": {
              "outlinewidth": 0,
              "ticks": ""
             }
            },
            "type": "scattergl"
           }
          ],
          "scattermapbox": [
           {
            "marker": {
             "colorbar": {
              "outlinewidth": 0,
              "ticks": ""
             }
            },
            "type": "scattermapbox"
           }
          ],
          "scatterpolar": [
           {
            "marker": {
             "colorbar": {
              "outlinewidth": 0,
              "ticks": ""
             }
            },
            "type": "scatterpolar"
           }
          ],
          "scatterpolargl": [
           {
            "marker": {
             "colorbar": {
              "outlinewidth": 0,
              "ticks": ""
             }
            },
            "type": "scatterpolargl"
           }
          ],
          "scatterternary": [
           {
            "marker": {
             "colorbar": {
              "outlinewidth": 0,
              "ticks": ""
             }
            },
            "type": "scatterternary"
           }
          ],
          "surface": [
           {
            "colorbar": {
             "outlinewidth": 0,
             "ticks": ""
            },
            "colorscale": [
             [
              0,
              "#0d0887"
             ],
             [
              0.1111111111111111,
              "#46039f"
             ],
             [
              0.2222222222222222,
              "#7201a8"
             ],
             [
              0.3333333333333333,
              "#9c179e"
             ],
             [
              0.4444444444444444,
              "#bd3786"
             ],
             [
              0.5555555555555556,
              "#d8576b"
             ],
             [
              0.6666666666666666,
              "#ed7953"
             ],
             [
              0.7777777777777778,
              "#fb9f3a"
             ],
             [
              0.8888888888888888,
              "#fdca26"
             ],
             [
              1,
              "#f0f921"
             ]
            ],
            "type": "surface"
           }
          ],
          "table": [
           {
            "cells": {
             "fill": {
              "color": "#EBF0F8"
             },
             "line": {
              "color": "white"
             }
            },
            "header": {
             "fill": {
              "color": "#C8D4E3"
             },
             "line": {
              "color": "white"
             }
            },
            "type": "table"
           }
          ]
         },
         "layout": {
          "annotationdefaults": {
           "arrowcolor": "#2a3f5f",
           "arrowhead": 0,
           "arrowwidth": 1
          },
          "autotypenumbers": "strict",
          "coloraxis": {
           "colorbar": {
            "outlinewidth": 0,
            "ticks": ""
           }
          },
          "colorscale": {
           "diverging": [
            [
             0,
             "#8e0152"
            ],
            [
             0.1,
             "#c51b7d"
            ],
            [
             0.2,
             "#de77ae"
            ],
            [
             0.3,
             "#f1b6da"
            ],
            [
             0.4,
             "#fde0ef"
            ],
            [
             0.5,
             "#f7f7f7"
            ],
            [
             0.6,
             "#e6f5d0"
            ],
            [
             0.7,
             "#b8e186"
            ],
            [
             0.8,
             "#7fbc41"
            ],
            [
             0.9,
             "#4d9221"
            ],
            [
             1,
             "#276419"
            ]
           ],
           "sequential": [
            [
             0,
             "#0d0887"
            ],
            [
             0.1111111111111111,
             "#46039f"
            ],
            [
             0.2222222222222222,
             "#7201a8"
            ],
            [
             0.3333333333333333,
             "#9c179e"
            ],
            [
             0.4444444444444444,
             "#bd3786"
            ],
            [
             0.5555555555555556,
             "#d8576b"
            ],
            [
             0.6666666666666666,
             "#ed7953"
            ],
            [
             0.7777777777777778,
             "#fb9f3a"
            ],
            [
             0.8888888888888888,
             "#fdca26"
            ],
            [
             1,
             "#f0f921"
            ]
           ],
           "sequentialminus": [
            [
             0,
             "#0d0887"
            ],
            [
             0.1111111111111111,
             "#46039f"
            ],
            [
             0.2222222222222222,
             "#7201a8"
            ],
            [
             0.3333333333333333,
             "#9c179e"
            ],
            [
             0.4444444444444444,
             "#bd3786"
            ],
            [
             0.5555555555555556,
             "#d8576b"
            ],
            [
             0.6666666666666666,
             "#ed7953"
            ],
            [
             0.7777777777777778,
             "#fb9f3a"
            ],
            [
             0.8888888888888888,
             "#fdca26"
            ],
            [
             1,
             "#f0f921"
            ]
           ]
          },
          "colorway": [
           "#636efa",
           "#EF553B",
           "#00cc96",
           "#ab63fa",
           "#FFA15A",
           "#19d3f3",
           "#FF6692",
           "#B6E880",
           "#FF97FF",
           "#FECB52"
          ],
          "font": {
           "color": "#2a3f5f"
          },
          "geo": {
           "bgcolor": "white",
           "lakecolor": "white",
           "landcolor": "#E5ECF6",
           "showlakes": true,
           "showland": true,
           "subunitcolor": "white"
          },
          "hoverlabel": {
           "align": "left"
          },
          "hovermode": "closest",
          "mapbox": {
           "style": "light"
          },
          "paper_bgcolor": "white",
          "plot_bgcolor": "#E5ECF6",
          "polar": {
           "angularaxis": {
            "gridcolor": "white",
            "linecolor": "white",
            "ticks": ""
           },
           "bgcolor": "#E5ECF6",
           "radialaxis": {
            "gridcolor": "white",
            "linecolor": "white",
            "ticks": ""
           }
          },
          "scene": {
           "xaxis": {
            "backgroundcolor": "#E5ECF6",
            "gridcolor": "white",
            "gridwidth": 2,
            "linecolor": "white",
            "showbackground": true,
            "ticks": "",
            "zerolinecolor": "white"
           },
           "yaxis": {
            "backgroundcolor": "#E5ECF6",
            "gridcolor": "white",
            "gridwidth": 2,
            "linecolor": "white",
            "showbackground": true,
            "ticks": "",
            "zerolinecolor": "white"
           },
           "zaxis": {
            "backgroundcolor": "#E5ECF6",
            "gridcolor": "white",
            "gridwidth": 2,
            "linecolor": "white",
            "showbackground": true,
            "ticks": "",
            "zerolinecolor": "white"
           }
          },
          "shapedefaults": {
           "line": {
            "color": "#2a3f5f"
           }
          },
          "ternary": {
           "aaxis": {
            "gridcolor": "white",
            "linecolor": "white",
            "ticks": ""
           },
           "baxis": {
            "gridcolor": "white",
            "linecolor": "white",
            "ticks": ""
           },
           "bgcolor": "#E5ECF6",
           "caxis": {
            "gridcolor": "white",
            "linecolor": "white",
            "ticks": ""
           }
          },
          "title": {
           "x": 0.05
          },
          "xaxis": {
           "automargin": true,
           "gridcolor": "white",
           "linecolor": "white",
           "ticks": "",
           "title": {
            "standoff": 15
           },
           "zerolinecolor": "white",
           "zerolinewidth": 2
          },
          "yaxis": {
           "automargin": true,
           "gridcolor": "white",
           "linecolor": "white",
           "ticks": "",
           "title": {
            "standoff": 15
           },
           "zerolinecolor": "white",
           "zerolinewidth": 2
          }
         }
        }
       }
      }
     },
     "metadata": {},
     "output_type": "display_data"
    }
   ],
   "source": [
    "fig = go.Figure(data=go.Scatter(x=list(sse.keys()), y=list(sse.values())))\n",
    "fig.show()"
   ]
  },
  {
   "cell_type": "code",
   "execution_count": 36,
   "metadata": {},
   "outputs": [
    {
     "ename": "NameError",
     "evalue": "name 'umap' is not defined",
     "output_type": "error",
     "traceback": [
      "\u001b[0;31m---------------------------------------------------------------------------\u001b[0m",
      "\u001b[0;31mNameError\u001b[0m                                 Traceback (most recent call last)",
      "\u001b[1;32m/Users/eduardo.gutierrez/Develop/Conestoga/Programming/prog8420-egs-solutions/bank-transactions-analysis/bank-transaction.ipynb Cell 28'\u001b[0m in \u001b[0;36m<cell line: 16>\u001b[0;34m()\u001b[0m\n\u001b[1;32m     <a href='vscode-notebook-cell:/Users/eduardo.gutierrez/Develop/Conestoga/Programming/prog8420-egs-solutions/bank-transactions-analysis/bank-transaction.ipynb#ch0000076?line=12'>13</a>\u001b[0m categorical_weight \u001b[39m=\u001b[39m \u001b[39mlen\u001b[39m(bank_slice\u001b[39m.\u001b[39mselect_dtypes(include\u001b[39m=\u001b[39m\u001b[39m'\u001b[39m\u001b[39mobject\u001b[39m\u001b[39m'\u001b[39m)\u001b[39m.\u001b[39mcolumns) \u001b[39m/\u001b[39m bank_slice\u001b[39m.\u001b[39mshape[\u001b[39m1\u001b[39m]\n\u001b[1;32m     <a href='vscode-notebook-cell:/Users/eduardo.gutierrez/Develop/Conestoga/Programming/prog8420-egs-solutions/bank-transactions-analysis/bank-transaction.ipynb#ch0000076?line=14'>15</a>\u001b[0m \u001b[39m#Embedding numerical & categorical\u001b[39;00m\n\u001b[0;32m---> <a href='vscode-notebook-cell:/Users/eduardo.gutierrez/Develop/Conestoga/Programming/prog8420-egs-solutions/bank-transactions-analysis/bank-transaction.ipynb#ch0000076?line=15'>16</a>\u001b[0m fit1 \u001b[39m=\u001b[39m umap\u001b[39m.\u001b[39mUMAP(metric\u001b[39m=\u001b[39m\u001b[39m'\u001b[39m\u001b[39ml2\u001b[39m\u001b[39m'\u001b[39m)\u001b[39m.\u001b[39mfit(numerical)\n\u001b[1;32m     <a href='vscode-notebook-cell:/Users/eduardo.gutierrez/Develop/Conestoga/Programming/prog8420-egs-solutions/bank-transactions-analysis/bank-transaction.ipynb#ch0000076?line=16'>17</a>\u001b[0m fit2 \u001b[39m=\u001b[39m umap\u001b[39m.\u001b[39mUMAP(metric\u001b[39m=\u001b[39m\u001b[39m'\u001b[39m\u001b[39mdice\u001b[39m\u001b[39m'\u001b[39m)\u001b[39m.\u001b[39mfit(categorical)\n\u001b[1;32m     <a href='vscode-notebook-cell:/Users/eduardo.gutierrez/Develop/Conestoga/Programming/prog8420-egs-solutions/bank-transactions-analysis/bank-transaction.ipynb#ch0000076?line=18'>19</a>\u001b[0m \u001b[39m#Augmenting the numerical embedding with categorical\u001b[39;00m\n",
      "\u001b[0;31mNameError\u001b[0m: name 'umap' is not defined"
     ]
    }
   ],
   "source": [
    "#Preprocessing numerical\n",
    "numerical = bank_slice.select_dtypes(exclude='object')\n",
    "\n",
    "for c in numerical.columns:\n",
    "    pt = PowerTransformer()\n",
    "    numerical.loc[:, c] = pt.fit_transform(np.array(numerical[c]).reshape(-1, 1))\n",
    "    \n",
    "##preprocessing categorical\n",
    "categorical = bank_slice.select_dtypes(include='object')\n",
    "categorical = pd.get_dummies(categorical)\n",
    "\n",
    "#Percentage of columns which are categorical is used as weight parameter in embeddings later\n",
    "categorical_weight = len(bank_slice.select_dtypes(include='object').columns) / bank_slice.shape[1]\n",
    "\n",
    "#Embedding numerical & categorical\n",
    "fit1 = umap.UMAP(metric='l2').fit(numerical)\n",
    "fit2 = umap.UMAP(metric='dice').fit(categorical)\n",
    "\n",
    "#Augmenting the numerical embedding with categorical\n",
    "intersection = umap.umap_.general_simplicial_set_intersection(fit1.graph_, fit2.graph_, weight=categorical_weight)\n",
    "intersection = umap.umap_.reset_local_connectivity(intersection)\n",
    "embedding = umap.umap_.simplicial_set_embedding(fit1._raw_data, intersection, fit1.n_components, \n",
    "                                                fit1._initial_alpha, fit1._a, fit1._b, \n",
    "                                                fit1.repulsion_strength, fit1.negative_sample_rate, \n",
    "                                                200, 'random', np.random, fit1.metric, \n",
    "                                                fit1._metric_kwds, False)\n",
    "\n",
    "plt.figure(figsize=(20, 10))\n",
    "plt.scatter(*embedding.T, s=2, cmap='Spectral', alpha=1.0)\n",
    "plt.show()\n"
   ]
  },
  {
   "cell_type": "code",
   "execution_count": null,
   "metadata": {},
   "outputs": [],
   "source": [
    "fig, ax = plt.subplots()\n",
    "fig.set_size_inches((20, 10))\n",
    "scatter = ax.scatter(embedding[:, 0], embedding[:, 1], s=2, c=kmeans_labels, cmap='tab20b', alpha=1.0)\n",
    "\n",
    "# produce a legend with the unique colors from the scatter\n",
    "legend1 = ax.legend(*scatter.legend_elements(num=15),\n",
    "                    loc=\"lower left\", title=\"Classes\")\n",
    "ax.add_artist(legend1)\n"
   ]
  },
  {
   "cell_type": "markdown",
   "metadata": {},
   "source": [
    "## References\n",
    "* [Simple Scatter Plots](https://jakevdp.github.io/PythonDataScienceHandbook/04.02-simple-scatter-plots.html)\n",
    "* [Stacked bar chart](https://matplotlib.org/3.5.1/gallery/lines_bars_and_markers/bar_stacked.html)\n",
    "* [Group and Aggregate by One or More Columns in Pandas](https://jamesrledoux.com/code/group-by-aggregate-pandas)\n",
    "* [Print Visually Pleasing DataFrames in For Loop in Jupyter Notebook Pandas](https://stackoverflow.com/a/54138918/3211335)\n",
    "* [Matplotlib - Bar Plot](https://www.tutorialspoint.com/matplotlib/matplotlib_bar_plot.htm)\n",
    "* [Grouped bar chart with labels](https://matplotlib.org/stable/gallery/lines_bars_and_markers/barchart.html)\n",
    "* [Pandas get topmost n records within each group](https://stackoverflow.com/questions/20069009/pandas-get-topmost-n-records-within-each-group)\n",
    "* [How to access column after pandas .groupby](https://stackoverflow.com/questions/58435657/how-to-access-column-after-pandas-groupby)\n",
    "* [Adding value labels on a matplotlib bar chart](https://stackoverflow.com/questions/28931224/adding-value-labels-on-a-matplotlib-bar-chart)\n",
    "* [Preserve Column Order When Using Pivot](https://stackoverflow.com/questions/62269086/preserve-column-order-when-using-pivot)\n",
    "* [Pandas Pivot Table List of Aggfunc](https://stackoverflow.com/questions/34193862/pandas-pivot-table-list-of-aggfunc)\n",
    "* [Plot values in specific column range for a particular row in a pandas data frame](https://stackoverflow.com/questions/31734371/plot-values-in-specific-column-range-for-a-particular-row-in-a-pandas-data-frame)\n",
    "* [Python Pandas: Convert Rows as Column headers [duplicate]](https://stackoverflow.com/questions/17298313/python-pandas-convert-rows-as-column-headers)\n",
    "* [pandas DataFrame: replace nan values with average of columns](https://stackoverflow.com/questions/18689823/pandas-dataframe-replace-nan-values-with-average-of-columns)\n",
    "* [Extracting just Month and Year separately from Pandas Datetime column](https://stackoverflow.com/questions/25146121/extracting-just-month-and-year-separately-from-pandas-datetime-column)\n",
    "* [How to Sort Pandas DataFrame (with examples)](https://datatofish.com/sort-pandas-dataframe/)\n",
    "* [Get statistics for each group (such as count, mean, etc) using pandas GroupBy?](https://stackoverflow.com/questions/19384532/get-statistics-for-each-group-such-as-count-mean-etc-using-pandas-groupby)\n",
    "* [how to sort the result by pandas.value_counts](https://stackoverflow.com/questions/61158963/how-to-sort-the-result-by-pandas-value-counts)"
   ]
  }
 ],
 "metadata": {
  "interpreter": {
   "hash": "b3e1a64099489025dea578c604b1d3b3f8dcc51efd498330d2b7c9258be778bd"
  },
  "kernelspec": {
   "display_name": "Python 3.8.12 ('assignment3')",
   "language": "python",
   "name": "python3"
  },
  "language_info": {
   "codemirror_mode": {
    "name": "ipython",
    "version": 3
   },
   "file_extension": ".py",
   "mimetype": "text/x-python",
   "name": "python",
   "nbconvert_exporter": "python",
   "pygments_lexer": "ipython3",
   "version": "3.8.12"
  },
  "orig_nbformat": 4
 },
 "nbformat": 4,
 "nbformat_minor": 2
}
